{
 "cells": [
  {
   "cell_type": "markdown",
   "metadata": {},
   "source": [
    "# Self-Driving Car Engineer Nanodegree\n",
    "\n",
    "## Deep Learning\n",
    "\n",
    "## Project: Build a Traffic Sign Recognition Classifier\n",
    "\n",
    "In this notebook, a template is provided for you to implement your functionality in stages, which is required to successfully complete this project. If additional code is required that cannot be included in the notebook, be sure that the Python code is successfully imported and included in your submission if necessary. \n",
    "\n",
    "> **Note**: Once you have completed all of the code implementations, you need to finalize your work by exporting the iPython Notebook as an HTML document. Before exporting the notebook to html, all of the code cells need to have been run so that reviewers can see the final implementation and output. You can then export the notebook by using the menu above and navigating to  \\n\",\n",
    "    \"**File -> Download as -> HTML (.html)**. Include the finished document along with this notebook as your submission. \n",
    "\n",
    "In addition to implementing code, there is a writeup to complete. The writeup should be completed in a separate file, which can be either a markdown file or a pdf document. There is a [write up template](https://github.com/udacity/CarND-Traffic-Sign-Classifier-Project/blob/master/writeup_template.md) that can be used to guide the writing process. Completing the code template and writeup template will cover all of the [rubric points](https://review.udacity.com/#!/rubrics/481/view) for this project.\n",
    "\n",
    "The [rubric](https://review.udacity.com/#!/rubrics/481/view) contains \"Stand Out Suggestions\" for enhancing the project beyond the minimum requirements. The stand out suggestions are optional. If you decide to pursue the \"stand out suggestions\", you can include the code in this Ipython notebook and also discuss the results in the writeup file.\n",
    "\n",
    "\n",
    ">**Note:** Code and Markdown cells can be executed using the **Shift + Enter** keyboard shortcut. In addition, Markdown cells can be edited by typically double-clicking the cell to enter edit mode."
   ]
  },
  {
   "cell_type": "markdown",
   "metadata": {},
   "source": [
    "---\n",
    "## Step 0: Load The Data"
   ]
  },
  {
   "cell_type": "code",
   "execution_count": 1,
   "metadata": {
    "collapsed": false
   },
   "outputs": [],
   "source": [
    "# Load pickled data\n",
    "import pickle, os\n",
    "\n",
    "# TODO: Fill this in based on where you saved the training and testing data\n",
    "\n",
    "training_file =   os.path.join(os.getcwd(), './train.p')\n",
    "validation_file = os.path.join(os.getcwd(), './valid.p')\n",
    "testing_file =    os.path.join(os.getcwd(), './test.p')\n",
    "\n",
    "with open(training_file, mode='rb') as f:\n",
    "    train = pickle.load(f)\n",
    "with open(validation_file, mode='rb') as f:\n",
    "    valid = pickle.load(f)\n",
    "with open(testing_file, mode='rb') as f:\n",
    "    test = pickle.load(f)\n",
    "    \n",
    "X_train, y_train = train['features'], train['labels']\n",
    "X_valid, y_valid = valid['features'], valid['labels']\n",
    "X_test, y_test = test['features'], test['labels']"
   ]
  },
  {
   "cell_type": "markdown",
   "metadata": {},
   "source": [
    "---\n",
    "\n",
    "## Step 1: Dataset Summary & Exploration\n",
    "\n",
    "The pickled data is a dictionary with 4 key/value pairs:\n",
    "\n",
    "- `'features'` is a 4D array containing raw pixel data of the traffic sign images, (num examples, width, height, channels).\n",
    "- `'labels'` is a 1D array containing the label/class id of the traffic sign. The file `signnames.csv` contains id -> name mappings for each id.\n",
    "- `'sizes'` is a list containing tuples, (width, height) representing the the original width and height the image.\n",
    "- `'coords'` is a list containing tuples, (x1, y1, x2, y2) representing coordinates of a bounding box around the sign in the image. **THESE COORDINATES ASSUME THE ORIGINAL IMAGE. THE PICKLED DATA CONTAINS RESIZED VERSIONS (32 by 32) OF THESE IMAGES**\n",
    "\n",
    "Complete the basic data summary below. Use python, numpy and/or pandas methods to calculate the data summary rather than hard coding the results. For example, the [pandas shape method](http://pandas.pydata.org/pandas-docs/stable/generated/pandas.DataFrame.shape.html) might be useful for calculating some of the summary results. "
   ]
  },
  {
   "cell_type": "markdown",
   "metadata": {},
   "source": [
    "### Provide a Basic Summary of the Data Set Using Python, Numpy and/or Pandas"
   ]
  },
  {
   "cell_type": "code",
   "execution_count": 2,
   "metadata": {
    "collapsed": false
   },
   "outputs": [
    {
     "name": "stdout",
     "output_type": "stream",
     "text": [
      "Number of training examples = 34799\n",
      "Number of testing examples = 12630\n",
      "Image data shape = (32, 32)\n",
      "Number of classes = 43\n"
     ]
    }
   ],
   "source": [
    "### Replace each question mark with the appropriate value. \n",
    "### Use python, pandas or numpy methods rather than hard coding the results\n",
    "### Data exploration visualization code goes here.\n",
    "### Feel free to use as many code cells as needed.\n",
    "import matplotlib.pyplot as plt\n",
    "import cv2\n",
    "%matplotlib inline\n",
    "\n",
    "import numpy as np\n",
    "from sklearn.utils import shuffle\n",
    "# Number of training examples\n",
    "n_train = X_train.shape[0]\n",
    "\n",
    "# Number of testing examples.\n",
    "n_test = X_test.shape[0]\n",
    "\n",
    "# What's the shape of an traffic sign image?\n",
    "image_shape = X_train.shape[1:3]\n",
    "\n",
    "# TODO: How many unique classes/labels there are in the dataset.\n",
    "n_classes = np.unique(y_train).size\n",
    "\n",
    "print(\"Number of training examples =\", n_train)\n",
    "print(\"Number of testing examples =\", n_test)\n",
    "print(\"Image data shape =\", image_shape)\n",
    "print(\"Number of classes =\", n_classes)"
   ]
  },
  {
   "cell_type": "markdown",
   "metadata": {},
   "source": [
    "### Include an exploratory visualization of the dataset"
   ]
  },
  {
   "cell_type": "markdown",
   "metadata": {},
   "source": [
    "Visualize the German Traffic Signs Dataset using the pickled file(s). This is open ended, suggestions include: plotting traffic sign images, plotting the count of each sign, etc.\n",
    "\n",
    "The [Matplotlib](http://matplotlib.org/) [examples](http://matplotlib.org/examples/index.html) and [gallery](http://matplotlib.org/gallery.html) pages are a great resource for doing visualizations in Python.\n",
    "\n",
    "**NOTE:** It's recommended you start with something simple first. If you wish to do more, come back to it after you've completed the rest of the sections."
   ]
  },
  {
   "cell_type": "markdown",
   "metadata": {},
   "source": [
    "----\n",
    "\n",
    "## Step 2: Design and Test a Model Architecture\n",
    "\n",
    "Design and implement a deep learning model that learns to recognize traffic signs. Train and test your model on the [German Traffic Sign Dataset](http://benchmark.ini.rub.de/?section=gtsrb&subsection=dataset).\n",
    "\n",
    "There are various aspects to consider when thinking about this problem:\n",
    "\n",
    "- Neural network architecture\n",
    "- Play around preprocessing techniques (normalization, rgb to grayscale, etc)\n",
    "- Number of examples per label (some have more than others).\n",
    "- Generate fake data.\n",
    "\n",
    "Here is an example of a [published baseline model on this problem](http://yann.lecun.com/exdb/publis/pdf/sermanet-ijcnn-11.pdf). It's not required to be familiar with the approach used in the paper but, it's good practice to try to read papers like these.\n",
    "\n",
    "**NOTE:** The LeNet-5 implementation shown in the [classroom](https://classroom.udacity.com/nanodegrees/nd013/parts/fbf77062-5703-404e-b60c-95b78b2f3f9e/modules/6df7ae49-c61c-4bb2-a23e-6527e69209ec/lessons/601ae704-1035-4287-8b11-e2c2716217ad/concepts/d4aca031-508f-4e0b-b493-e7b706120f81) at the end of the CNN lesson is a solid starting point. You'll have to change the number of classes and possibly the preprocessing, but aside from that it's plug and play!"
   ]
  },
  {
   "cell_type": "markdown",
   "metadata": {},
   "source": [
    "### Pre-process the Data Set (normalization, grayscale, etc.)"
   ]
  },
  {
   "cell_type": "markdown",
   "metadata": {},
   "source": [
    "## Complete\n",
    "1. Rotation\n",
    "2. Grayscale (Not useful)\n",
    "3. Histogram equalization (enhance contrast)\n",
    "4. Contrast limited adaptive histogram equalization image contrast\n",
    "5. Conorm (enhance edge with difference of gaussian)\n"
   ]
  },
  {
   "cell_type": "markdown",
   "metadata": {},
   "source": [
    "## Grayscale\n",
    "Grayscale was not found to be useful because color contains information in traffic signs."
   ]
  },
  {
   "cell_type": "code",
   "execution_count": null,
   "metadata": {
    "collapsed": false
   },
   "outputs": [],
   "source": [
    "# Grayscale is not a useful preprocessing step as color contains information in traffic signs\n",
    "# Create array with same shape as X_train without channels\n",
    "# X_train_gray = np.copy(X_train[:,:,:,0])\n",
    "# # Convert images to grayscale\n",
    "# for i in range(n_train):\n",
    "#     X_train_gray[i] = cv2.cvtColor(X_train[i], cv2.COLOR_BGR2GRAY)\n",
    "# print('Datashape changed from {0} to {1}'.format(X_train.shape, \n",
    "#                                                  X_train_gray.shape))"
   ]
  },
  {
   "cell_type": "markdown",
   "metadata": {},
   "source": [
    "## Rotation +/- 5 degrees\n",
    "* Traffic signs may not be oriented the same as in the training images.\n",
    "* Images show greater rotation for visual clarity, smaller angles expected in real world"
   ]
  },
  {
   "cell_type": "code",
   "execution_count": 3,
   "metadata": {
    "collapsed": false
   },
   "outputs": [],
   "source": [
    "# Define rotation matrix and rotate in positive and negative direction\n",
    "def rotate_images(X, deg):\n",
    "    rows, cols = X.shape[1], X.shape[2]\n",
    "    M_pos = cv2.getRotationMatrix2D((rows//2, cols//2), deg, 1)\n",
    "    M_neg = cv2.getRotationMatrix2D((rows//2, cols//2), -1*deg, 1)\n",
    "    X_rot_pos = np.copy(X)\n",
    "    X_rot_neg = np.copy(X)\n",
    "    for i in range(X.shape[0]):\n",
    "        X_rot_pos[i] = cv2.warpAffine(X[i], M_pos, (rows, cols))\n",
    "        X_rot_neg[i] = cv2.warpAffine(X[i], M_neg, (rows, cols))\n",
    "    print('Dataset rotated +/-{0} degrees.'.format(deg))\n",
    "    return X_rot_pos, X_rot_neg"
   ]
  },
  {
   "cell_type": "code",
   "execution_count": 4,
   "metadata": {
    "collapsed": false
   },
   "outputs": [
    {
     "name": "stdout",
     "output_type": "stream",
     "text": [
      "Dataset rotated +/-15 degrees.\n"
     ]
    },
    {
     "data": {
      "image/png": "[encoded data removed]",
      "text/plain": [
       "<matplotlib.figure.Figure at 0x7fc2c0529fd0>"
      ]
     },
     "metadata": {},
     "output_type": "display_data"
    }
   ],
   "source": [
    "degrees = 15\n",
    "X_pos, X_neg = rotate_images(X_train, degrees)\n",
    "X_train, X_pos, X_neg = shuffle(X_train, X_pos, X_neg)\n",
    "fig = plt.figure()\n",
    "fig.suptitle('+/-{0} degree rotation'.format(degrees))\n",
    "plt.subplot(231)\n",
    "plt.imshow(X_pos[0])\n",
    "plt.subplot(232)\n",
    "plt.imshow(X_train[0])\n",
    "plt.subplot(233)\n",
    "plt.imshow(X_neg[0])\n",
    "plt.subplot(234)\n",
    "plt.imshow(X_pos[1])\n",
    "plt.subplot(235)\n",
    "plt.imshow(X_train[1])\n",
    "plt.subplot(236)\n",
    "plt.imshow(X_neg[1])\n",
    "plt.show()"
   ]
  },
  {
   "cell_type": "markdown",
   "metadata": {},
   "source": [
    "## Increase image contrast\n",
    "* Histogram equalization is used to increase contrast in image\n",
    "* Color historgram equalization achieved by equalizing Y channel of YCrCb colorspace"
   ]
  },
  {
   "cell_type": "code",
   "execution_count": 5,
   "metadata": {
    "collapsed": true
   },
   "outputs": [],
   "source": [
    "def amplify_contrast(X):\n",
    "    X_eq = np.copy(X)\n",
    "    for i in range(X.shape[0]):\n",
    "        YCrCb = cv2.cvtColor(X[i], cv2.COLOR_RGB2YCrCb)\n",
    "        Y, Cr, Cb = cv2.split(YCrCb)\n",
    "        Y_eq = cv2.equalizeHist(Y)\n",
    "        YCrCb_eq = cv2.merge((Y_eq, Cr, Cb))\n",
    "        X_eq[i] = cv2.cvtColor(YCrCb_eq, cv2.COLOR_YCrCb2RGB)\n",
    "    print('Dataset histogram equalized')\n",
    "    return X_eq"
   ]
  },
  {
   "cell_type": "code",
   "execution_count": 6,
   "metadata": {
    "collapsed": false
   },
   "outputs": [
    {
     "name": "stdout",
     "output_type": "stream",
     "text": [
      "Dataset histogram equalized\n"
     ]
    },
    {
     "data": {
      "image/png": "[encoded data removed]",
      "text/plain": [
       "<matplotlib.figure.Figure at 0x7fc269ad9a90>"
      ]
     },
     "metadata": {},
     "output_type": "display_data"
    }
   ],
   "source": [
    "X_histeq = amplify_contrast(X_train)\n",
    "X_train, X_histeq = shuffle(X_train, X_histeq)\n",
    "fig = plt.figure()\n",
    "fig.suptitle('Increase contrast histogram equalization')\n",
    "plt.subplot(221)\n",
    "plt.imshow(X_train[0])\n",
    "plt.subplot(222)\n",
    "plt.imshow(X_histeq[0])\n",
    "plt.subplot(223)\n",
    "plt.imshow(X_train[1])\n",
    "plt.subplot(224)\n",
    "plt.imshow(X_histeq[1])\n",
    "plt.show()"
   ]
  },
  {
   "cell_type": "markdown",
   "metadata": {},
   "source": [
    "## Increase image contrast (Area)\n",
    "* Adaptive contrast limited histogram equalization is used to increase contrast in image\n",
    "* Different from histogram equalization in that it looks at blocks of pixels.\n",
    "* Color historgram equalization achieved by equalizing Y channel of YCrCb colorspace"
   ]
  },
  {
   "cell_type": "code",
   "execution_count": 7,
   "metadata": {
    "collapsed": true
   },
   "outputs": [],
   "source": [
    "def clahe_contrast(X):\n",
    "    X_clahe = np.copy(X)\n",
    "    for i in range(X.shape[0]):\n",
    "        YCrCb = cv2.cvtColor(X[i], cv2.COLOR_RGB2YCrCb)\n",
    "        Y, Cr, Cb = cv2.split(YCrCb)\n",
    "        clahe = cv2.createCLAHE(tileGridSize=(4,4))\n",
    "        Y_clahe = clahe.apply(Y)\n",
    "        YCrCb_clahe = cv2.merge((Y_clahe, Cr, Cb))\n",
    "        X_clahe[i] = cv2.cvtColor(YCrCb_clahe, cv2.COLOR_YCrCb2RGB)\n",
    "    print('Dataset histogram equalized clahe')\n",
    "    return X_clahe"
   ]
  },
  {
   "cell_type": "code",
   "execution_count": 8,
   "metadata": {
    "collapsed": false
   },
   "outputs": [
    {
     "name": "stdout",
     "output_type": "stream",
     "text": [
      "Dataset histogram equalized clahe\n"
     ]
    },
    {
     "data": {
      "image/png": "[encoded data removed]",
      "text/plain": [
       "<matplotlib.figure.Figure at 0x7fc269905fd0>"
      ]
     },
     "metadata": {},
     "output_type": "display_data"
    }
   ],
   "source": [
    "X_clahe = clahe_contrast(X_train)\n",
    "X_train, X_clahe = shuffle(X_train, X_clahe)\n",
    "fig = plt.figure()\n",
    "fig.suptitle('Increase contrast CLAHE')\n",
    "plt.subplot(221)\n",
    "plt.imshow(X_train[0])\n",
    "plt.subplot(222)\n",
    "plt.imshow(X_clahe[0])\n",
    "plt.subplot(223)\n",
    "plt.imshow(X_train[1])\n",
    "plt.subplot(224)\n",
    "plt.imshow(X_clahe[1])\n",
    "plt.show()"
   ]
  },
  {
   "cell_type": "markdown",
   "metadata": {},
   "source": [
    "## Contrast Normalization\n",
    "* Use a difference of gaussian to amplify edges\n",
    "* Obtained by convolving a difference of gaussians on the image and adding that to the image\n",
    "* Based on [Sermanet Lecun 2011](http://yann.lecun.com/exdb/publis/pdf/sermanet-ijcnn-11.pdf)\n",
    "* Can lead to artifacts in color images"
   ]
  },
  {
   "cell_type": "code",
   "execution_count": 9,
   "metadata": {
    "collapsed": false
   },
   "outputs": [],
   "source": [
    "def contrast_normalization(X):\n",
    "    X_conorm = np.copy(X)\n",
    "    for i in range(X.shape[0]):\n",
    "        gauss_1 = cv2.getGaussianKernel(5, 1) + np.transpose(cv2.getGaussianKernel(5, 1))\n",
    "        gauss_2 = cv2.getGaussianKernel(5, 1.6) + np.transpose(cv2.getGaussianKernel(5, 1.6))\n",
    "        diff_gauss = gauss_1 - gauss_2\n",
    "#         gauss_1 = cv2.GaussianBlur(X[i], (3,3), 0)\n",
    "#         gauss_2 = cv2.GaussianBlur(X[i], (1,1), 0)\n",
    "        X_conorm[i] = X[i] + cv2.filter2D(X[i], -1, diff_gauss)\n",
    "#         X_conorm[i] = X[i] + (gauss_2 - gauss_1)\n",
    "    print('Contrast normalized')\n",
    "    return X_conorm"
   ]
  },
  {
   "cell_type": "code",
   "execution_count": 10,
   "metadata": {
    "collapsed": false
   },
   "outputs": [
    {
     "name": "stdout",
     "output_type": "stream",
     "text": [
      "Contrast normalized\n"
     ]
    },
    {
     "data": {
      "image/png": "[encoded data removed]",
      "text/plain": [
       "<matplotlib.figure.Figure at 0x7fc269aaeba8>"
      ]
     },
     "metadata": {},
     "output_type": "display_data"
    }
   ],
   "source": [
    "X_conorm = contrast_normalization(X_train)\n",
    "X_train, X_conorm = shuffle(X_train, X_conorm)\n",
    "fig = plt.figure()\n",
    "fig.suptitle('Contrast normalization')\n",
    "plt.subplot(221)\n",
    "plt.imshow(X_train[0])\n",
    "plt.subplot(222)\n",
    "plt.imshow(X_conorm[0])\n",
    "plt.subplot(223)\n",
    "plt.imshow(X_train[1])\n",
    "plt.subplot(224)\n",
    "plt.imshow(X_conorm[1])\n",
    "plt.show()"
   ]
  },
  {
   "cell_type": "markdown",
   "metadata": {},
   "source": [
    "### Preprocess Images"
   ]
  },
  {
   "cell_type": "code",
   "execution_count": 11,
   "metadata": {
    "collapsed": false
   },
   "outputs": [],
   "source": [
    "def preprocess_images(X, y):\n",
    "    X_rot_pos, X_rot_neg = rotate_images(X, 5)\n",
    "    X = np.concatenate((X, X_rot_neg, X_rot_pos), axis=0)\n",
    "    y = np.concatenate((y, y, y), axis=0)\n",
    "    print('Number of examples increased to {0}'.format(X.shape[0]))\n",
    "    \n",
    "    X_histeq = amplify_contrast(X)\n",
    "    X_clahe = clahe_contrast(X)\n",
    "#     X_conorm = contrast_normalization(X)\n",
    "    X = np.concatenate((X, X_histeq, X_clahe), axis=0)\n",
    "    y = np.concatenate((y, y, y), axis=0)\n",
    "    print('Number of examples increased to {0}'.format(X.shape[0]))\n",
    "    return X, y\n"
   ]
  },
  {
   "cell_type": "code",
   "execution_count": 12,
   "metadata": {
    "collapsed": false
   },
   "outputs": [
    {
     "name": "stdout",
     "output_type": "stream",
     "text": [
      "Dataset rotated +/-5 degrees.\n",
      "Number of examples increased to 104397\n",
      "Dataset histogram equalized\n",
      "Dataset histogram equalized clahe\n",
      "Number of examples increased to 313191\n"
     ]
    }
   ],
   "source": [
    "X_train, y_train = preprocess_images(X_train, y_train)"
   ]
  },
  {
   "cell_type": "markdown",
   "metadata": {},
   "source": [
    "### Model Architecture"
   ]
  },
  {
   "cell_type": "code",
   "execution_count": 13,
   "metadata": {
    "collapsed": false
   },
   "outputs": [
    {
     "name": "stdout",
     "output_type": "stream",
     "text": [
      "1.0.0\n"
     ]
    }
   ],
   "source": [
    "import tensorflow as tf\n",
    "print(tf.__version__)"
   ]
  },
  {
   "cell_type": "code",
   "execution_count": 14,
   "metadata": {
    "collapsed": true
   },
   "outputs": [],
   "source": [
    "def weight_variable(shape):\n",
    "    init = tf.truncated_normal(shape, mean=0, stddev=0.1)\n",
    "    return tf.Variable(init)\n",
    "def bias_variable(shape):\n",
    "    init = tf.constant(0.1, shape=shape)\n",
    "    return tf.Variable(init)"
   ]
  },
  {
   "cell_type": "code",
   "execution_count": 15,
   "metadata": {
    "collapsed": true
   },
   "outputs": [],
   "source": [
    "def conv2d(x, W):\n",
    "    return tf.nn.conv2d(x, W, strides=[1,1,1,1], padding='VALID')\n",
    "def conv2d_same(x, W):\n",
    "    return tf.nn.conv2d(x, W, strides=[1,1,1,1], padding='SAME')\n",
    "def max_pool(x):\n",
    "    return tf.nn.max_pool(x, ksize=[1,2,2,1],strides=[1,2,2,1], \n",
    "                          padding='VALID')"
   ]
  },
  {
   "cell_type": "code",
   "execution_count": 16,
   "metadata": {
    "collapsed": true
   },
   "outputs": [],
   "source": [
    "### Define your architecture here.\n",
    "### Feel free to use as many code cells as needed.\n",
    "def SketchNet(input_layer, dropout, num_classes=43):\n",
    "    \n",
    "#     depth = [1, 6, 16, 400, 160, 96, num_classes]\n",
    "    input_layer = tf.reshape(x, [-1,32,32,3])\n",
    "    print('Layer 0 Init: Shape {}'.format(input_layer.get_shape()))\n",
    "    \n",
    "    F_w_1 = weight_variable([5,5,3,18])\n",
    "    F_b_1 = bias_variable([18])\n",
    "    conv_1 = tf.nn.relu(conv2d(input_layer, F_w_1) + F_b_1)\n",
    "    print('Layer 1 Convolution: Shape {}'.format(conv_1.get_shape()))\n",
    "    pool_1 = max_pool(conv_1)\n",
    "    print('Layer 2 Pooling: Shape {}'.format(pool_1.get_shape()))\n",
    "    \n",
    "    F_w_2 = weight_variable([5,5,18,48])\n",
    "    F_b_2 = bias_variable([48])\n",
    "    conv_2 = tf.nn.relu(conv2d(pool_1, F_w_2) + F_b_2)\n",
    "    print('Layer 3 Convolution: Shape {}'.format(conv_2.get_shape()))\n",
    "    pool_2 = max_pool(conv_2)\n",
    "    print('Layer 4 Pooling: Shape {}'.format(pool_2.get_shape()))\n",
    "    \n",
    "    dense_1 = tf.contrib.layers.flatten(pool_2)\n",
    "    print('Layer 5 Flatten: Shape {}'.format(dense_1.get_shape()))\n",
    "    \n",
    "    drop_1 = tf.nn.dropout(dense_1, dropout)\n",
    "    \n",
    "    F_w_3 = weight_variable([1200, 360])\n",
    "    F_b_3 = bias_variable([360])\n",
    "    dense_2 = tf.nn.relu(tf.matmul(drop_1, F_w_3) + F_b_3)\n",
    "    print('Layer 6 Matrix Multiplication: Shape {}'.format(dense_2.get_shape()))\n",
    "    \n",
    "    F_w_4 = weight_variable([360, 108])\n",
    "    F_b_4 = bias_variable([108])\n",
    "    dense_3 = tf.nn.relu(tf.matmul(dense_2, F_w_4) + F_b_4)\n",
    "    print('Layer 6 Matrix Multiplication: Shape {}'.format(dense_3.get_shape()))\n",
    "    \n",
    "    F_w_5 = weight_variable([108, n_classes])\n",
    "    F_b_5 = bias_variable([n_classes])\n",
    "    logits = tf.nn.relu(tf.matmul(dense_3, F_w_5) + F_b_5)\n",
    "    print('Final Layer Matrix Multiplication: Shape {}'.format(logits.get_shape()))\n",
    "    \n",
    "    return logits"
   ]
  },
  {
   "cell_type": "code",
   "execution_count": null,
   "metadata": {
    "collapsed": true
   },
   "outputs": [],
   "source": []
  },
  {
   "cell_type": "code",
   "execution_count": 17,
   "metadata": {
    "collapsed": true
   },
   "outputs": [],
   "source": [
    "### Define your architecture here.\n",
    "### Feel free to use as many code cells as needed.\n",
    "def SketchNet2(input_layer, dropout, num_classes=43):\n",
    "    \n",
    "#     depth = [1, 6, 16, 400, 160, 96, num_classes]\n",
    "    input_layer = tf.reshape(x, [-1,32,32,3])\n",
    "    print('Layer 0 Init: Shape {}'.format(input_layer.get_shape()))\n",
    "    \n",
    "    F_w_1 = weight_variable([3,3,3,18])\n",
    "    F_b_1 = bias_variable([18])\n",
    "    conv_1 = tf.nn.relu(conv2d_same(input_layer, F_w_1) + F_b_1)\n",
    "    print('Layer 1 Convolution: Shape {}'.format(conv_1.get_shape()))\n",
    "    pool_1 = max_pool(conv_1)\n",
    "    print('Layer 2 Pooling: Shape {}'.format(pool_1.get_shape()))\n",
    "    \n",
    "    F_w_2 = weight_variable([3,3,18,48])\n",
    "    F_b_2 = bias_variable([48])\n",
    "    conv_2 = tf.nn.relu(conv2d_same(pool_1, F_w_2) + F_b_2)\n",
    "    print('Layer 3 Convolution: Shape {}'.format(conv_2.get_shape()))\n",
    "    pool_2 = max_pool(conv_2)\n",
    "    print('Layer 4 Pooling: Shape {}'.format(pool_2.get_shape()))\n",
    "    \n",
    "    F_w_2b = weight_variable([3,3,48,64])\n",
    "    F_b_2b = bias_variable([64])\n",
    "    conv_2b = tf.nn.relu(conv2d_same(pool_2, F_w_2b) + F_b_2b)\n",
    "    print('Layer 5 Convolution: Shape {}'.format(conv_2b.get_shape()))\n",
    "    pool_2b = max_pool(conv_2b)\n",
    "    print('Layer 6 Pooling: Shape {}'.format(pool_2b.get_shape()))\n",
    "    \n",
    "    dense_1 = tf.contrib.layers.flatten(pool_2b)\n",
    "    print('Layer 7 Flatten: Shape {}'.format(dense_1.get_shape()))\n",
    "    \n",
    "    drop_1 = tf.nn.dropout(dense_1, dropout)\n",
    "    \n",
    "    F_w_3 = weight_variable([1024, 300])\n",
    "    F_b_3 = bias_variable([300])\n",
    "    dense_2 = tf.nn.relu(tf.matmul(drop_1, F_w_3) + F_b_3)\n",
    "    print('Layer 8 Matrix Multiplication: Shape {}'.format(dense_2.get_shape()))\n",
    "    \n",
    "    F_w_4 = weight_variable([300, 100])\n",
    "    F_b_4 = bias_variable([100])\n",
    "    dense_3 = tf.nn.relu(tf.matmul(dense_2, F_w_4) + F_b_4)\n",
    "    print('Layer 9 Matrix Multiplication: Shape {}'.format(dense_3.get_shape()))\n",
    "    \n",
    "    F_w_5 = weight_variable([100, n_classes])\n",
    "    F_b_5 = bias_variable([n_classes])\n",
    "    logits = tf.nn.relu(tf.matmul(dense_3, F_w_5) + F_b_5)\n",
    "    print('Final Layer Matrix Multiplication: Shape {}'.format(logits.get_shape()))\n",
    "    \n",
    "    return logits"
   ]
  },
  {
   "cell_type": "markdown",
   "metadata": {},
   "source": [
    "### Train, Validate and Test the Model"
   ]
  },
  {
   "cell_type": "markdown",
   "metadata": {},
   "source": [
    "A validation set can be used to assess how well the model is performing. A low accuracy on the training and validation\n",
    "sets imply underfitting. A high accuracy on the training set but low accuracy on the validation set implies overfitting."
   ]
  },
  {
   "cell_type": "code",
   "execution_count": 18,
   "metadata": {
    "collapsed": false
   },
   "outputs": [
    {
     "name": "stdout",
     "output_type": "stream",
     "text": [
      "Layer 0 Init: Shape (?, 32, 32, 3)\n",
      "Layer 1 Convolution: Shape (?, 32, 32, 18)\n",
      "Layer 2 Pooling: Shape (?, 16, 16, 18)\n",
      "Layer 3 Convolution: Shape (?, 16, 16, 48)\n",
      "Layer 4 Pooling: Shape (?, 8, 8, 48)\n",
      "Layer 5 Convolution: Shape (?, 8, 8, 64)\n",
      "Layer 6 Pooling: Shape (?, 4, 4, 64)\n",
      "Layer 7 Flatten: Shape (?, 1024)\n",
      "Layer 8 Matrix Multiplication: Shape (?, 300)\n",
      "Layer 9 Matrix Multiplication: Shape (?, 100)\n",
      "Final Layer Matrix Multiplication: Shape (?, 43)\n"
     ]
    }
   ],
   "source": [
    "### Train your model here.\n",
    "### Calculate and report the accuracy on the training and validation set.\n",
    "### Once a final model architecture is selected, \n",
    "### the accuracy on the test set should be calculated and reported as well.\n",
    "### Feel free to use as many code cells as needed.\n",
    "\n",
    "x = tf.placeholder(tf.float32, (None, 32, 32, 3))\n",
    "y = tf.placeholder(tf.int32, (None))\n",
    "keep_prob = tf.placeholder(tf.float32)\n",
    "# x = tf.constant(X_train_rot_gray)\n",
    "one_hot_y = tf.one_hot(y, n_classes)\n",
    "\n",
    "rate = 0.0001\n",
    "pred2 = SketchNet2(x, keep_prob)\n",
    "cross_entropy2 = tf.nn.softmax_cross_entropy_with_logits(logits= pred2, \n",
    "                                                        labels= one_hot_y)\n",
    "loss_operation2 = tf.reduce_mean(cross_entropy2)\n",
    "optimizer2 = tf.train.AdamOptimizer(learning_rate= rate)\n",
    "training_operation2 = optimizer2.minimize(loss_operation2)\n",
    "correct_pred2 = tf.equal(tf.argmax(pred2, 1), tf.argmax(one_hot_y, 1))\n",
    "accuracy_op2 = tf.reduce_mean(tf.cast(correct_pred2, tf.float32))"
   ]
  },
  {
   "cell_type": "code",
   "execution_count": 19,
   "metadata": {
    "collapsed": false
   },
   "outputs": [
    {
     "name": "stdout",
     "output_type": "stream",
     "text": [
      "Layer 0 Init: Shape (?, 32, 32, 3)\n",
      "Layer 1 Convolution: Shape (?, 28, 28, 18)\n",
      "Layer 2 Pooling: Shape (?, 14, 14, 18)\n",
      "Layer 3 Convolution: Shape (?, 10, 10, 48)\n",
      "Layer 4 Pooling: Shape (?, 5, 5, 48)\n",
      "Layer 5 Flatten: Shape (?, 1200)\n",
      "Layer 6 Matrix Multiplication: Shape (?, 360)\n",
      "Layer 6 Matrix Multiplication: Shape (?, 108)\n",
      "Final Layer Matrix Multiplication: Shape (?, 43)\n"
     ]
    }
   ],
   "source": [
    "### Train your model here.\n",
    "### Calculate and report the accuracy on the training and validation set.\n",
    "### Once a final model architecture is selected, \n",
    "### the accuracy on the test set should be calculated and reported as well.\n",
    "### Feel free to use as many code cells as needed.\n",
    "\n",
    "x = tf.placeholder(tf.float32, (None, 32, 32, 3))\n",
    "y = tf.placeholder(tf.int32, (None))\n",
    "keep_prob = tf.placeholder(tf.float32)\n",
    "# x = tf.constant(X_train_rot_gray)\n",
    "one_hot_y = tf.one_hot(y, n_classes)\n",
    "\n",
    "rate = 0.0001\n",
    "pred = SketchNet(x, keep_prob)\n",
    "cross_entropy = tf.nn.softmax_cross_entropy_with_logits(logits= pred, \n",
    "                                                        labels= one_hot_y)\n",
    "loss_operation = tf.reduce_mean(cross_entropy)\n",
    "optimizer = tf.train.AdamOptimizer(learning_rate= rate)\n",
    "training_operation = optimizer.minimize(loss_operation)\n",
    "correct_pred = tf.equal(tf.argmax(pred, 1), tf.argmax(one_hot_y, 1))\n",
    "accuracy_op = tf.reduce_mean(tf.cast(correct_pred, tf.float32))"
   ]
  },
  {
   "cell_type": "code",
   "execution_count": 20,
   "metadata": {
    "collapsed": true
   },
   "outputs": [],
   "source": [
    "def evaluate(X_data, y_data):\n",
    "    num_examples = len(X_data)\n",
    "    total_accuracy = 0\n",
    "    sess = tf.get_default_session()\n",
    "    for offset in range(0, num_examples, BATCH_SIZE):\n",
    "        batch_x = X_data[offset:offset+BATCH_SIZE]\n",
    "        batch_y = y_data[offset:offset+BATCH_SIZE]\n",
    "        accuracy = sess.run(accuracy_op, feed_dict={x: batch_x,\n",
    "                                                    y: batch_y,\n",
    "                                                    keep_prob: 1.0})\n",
    "        total_accuracy += (accuracy * len(batch_x))\n",
    "    return total_accuracy / num_examples"
   ]
  },
  {
   "cell_type": "code",
   "execution_count": 21,
   "metadata": {
    "collapsed": true
   },
   "outputs": [],
   "source": [
    "def evaluate2(X_data, y_data):\n",
    "    num_examples = len(X_data)\n",
    "    total_accuracy = 0\n",
    "    sess = tf.get_default_session()\n",
    "    for offset in range(0, num_examples, BATCH_SIZE):\n",
    "        batch_x = X_data[offset:offset+BATCH_SIZE]\n",
    "        batch_y = y_data[offset:offset+BATCH_SIZE]\n",
    "        accuracy = sess.run(accuracy_op2, feed_dict={x: batch_x,\n",
    "                                                    y: batch_y,\n",
    "                                                    keep_prob: 1.0})\n",
    "        total_accuracy += (accuracy * len(batch_x))\n",
    "    return total_accuracy / num_examples"
   ]
  },
  {
   "cell_type": "code",
   "execution_count": 24,
   "metadata": {
    "collapsed": false
   },
   "outputs": [
    {
     "ename": "ResourceExhaustedError",
     "evalue": "OOM when allocating tensor with shape[128,48,5,5]\n\t [[Node: gradients_1/MaxPool_4_grad/MaxPoolGrad = MaxPoolGrad[T=DT_FLOAT, data_format=\"NHWC\", ksize=[1, 2, 2, 1], padding=\"VALID\", strides=[1, 2, 2, 1], _device=\"/job:localhost/replica:0/task:0/gpu:0\"](Relu_7, MaxPool_4, gradients_1/Flatten_1/Reshape_grad/Reshape)]]\n\nCaused by op 'gradients_1/MaxPool_4_grad/MaxPoolGrad', defined at:\n  File \"/home/sketchc89/anaconda3/envs/sdcproj2/lib/python3.5/runpy.py\", line 184, in _run_module_as_main\n    \"__main__\", mod_spec)\n  File \"/home/sketchc89/anaconda3/envs/sdcproj2/lib/python3.5/runpy.py\", line 85, in _run_code\n    exec(code, run_globals)\n  File \"/home/sketchc89/anaconda3/envs/sdcproj2/lib/python3.5/site-packages/ipykernel/__main__.py\", line 3, in <module>\n    app.launch_new_instance()\n  File \"/home/sketchc89/anaconda3/envs/sdcproj2/lib/python3.5/site-packages/traitlets/config/application.py\", line 658, in launch_instance\n    app.start()\n  File \"/home/sketchc89/anaconda3/envs/sdcproj2/lib/python3.5/site-packages/ipykernel/kernelapp.py\", line 474, in start\n    ioloop.IOLoop.instance().start()\n  File \"/home/sketchc89/anaconda3/envs/sdcproj2/lib/python3.5/site-packages/zmq/eventloop/ioloop.py\", line 177, in start\n    super(ZMQIOLoop, self).start()\n  File \"/home/sketchc89/anaconda3/envs/sdcproj2/lib/python3.5/site-packages/tornado/ioloop.py\", line 887, in start\n    handler_func(fd_obj, events)\n  File \"/home/sketchc89/anaconda3/envs/sdcproj2/lib/python3.5/site-packages/tornado/stack_context.py\", line 275, in null_wrapper\n    return fn(*args, **kwargs)\n  File \"/home/sketchc89/anaconda3/envs/sdcproj2/lib/python3.5/site-packages/zmq/eventloop/zmqstream.py\", line 440, in _handle_events\n    self._handle_recv()\n  File \"/home/sketchc89/anaconda3/envs/sdcproj2/lib/python3.5/site-packages/zmq/eventloop/zmqstream.py\", line 472, in _handle_recv\n    self._run_callback(callback, msg)\n  File \"/home/sketchc89/anaconda3/envs/sdcproj2/lib/python3.5/site-packages/zmq/eventloop/zmqstream.py\", line 414, in _run_callback\n    callback(*args, **kwargs)\n  File \"/home/sketchc89/anaconda3/envs/sdcproj2/lib/python3.5/site-packages/tornado/stack_context.py\", line 275, in null_wrapper\n    return fn(*args, **kwargs)\n  File \"/home/sketchc89/anaconda3/envs/sdcproj2/lib/python3.5/site-packages/ipykernel/kernelbase.py\", line 276, in dispatcher\n    return self.dispatch_shell(stream, msg)\n  File \"/home/sketchc89/anaconda3/envs/sdcproj2/lib/python3.5/site-packages/ipykernel/kernelbase.py\", line 228, in dispatch_shell\n    handler(stream, idents, msg)\n  File \"/home/sketchc89/anaconda3/envs/sdcproj2/lib/python3.5/site-packages/ipykernel/kernelbase.py\", line 390, in execute_request\n    user_expressions, allow_stdin)\n  File \"/home/sketchc89/anaconda3/envs/sdcproj2/lib/python3.5/site-packages/ipykernel/ipkernel.py\", line 196, in do_execute\n    res = shell.run_cell(code, store_history=store_history, silent=silent)\n  File \"/home/sketchc89/anaconda3/envs/sdcproj2/lib/python3.5/site-packages/ipykernel/zmqshell.py\", line 501, in run_cell\n    return super(ZMQInteractiveShell, self).run_cell(*args, **kwargs)\n  File \"/home/sketchc89/anaconda3/envs/sdcproj2/lib/python3.5/site-packages/IPython/core/interactiveshell.py\", line 2717, in run_cell\n    interactivity=interactivity, compiler=compiler, result=result)\n  File \"/home/sketchc89/anaconda3/envs/sdcproj2/lib/python3.5/site-packages/IPython/core/interactiveshell.py\", line 2821, in run_ast_nodes\n    if self.run_code(code, result):\n  File \"/home/sketchc89/anaconda3/envs/sdcproj2/lib/python3.5/site-packages/IPython/core/interactiveshell.py\", line 2881, in run_code\n    exec(code_obj, self.user_global_ns, self.user_ns)\n  File \"<ipython-input-19-02725c7d7676>\", line 19, in <module>\n    training_operation = optimizer.minimize(loss_operation)\n  File \"/home/sketchc89/anaconda3/envs/sdcproj2/lib/python3.5/site-packages/tensorflow/python/training/optimizer.py\", line 288, in minimize\n    grad_loss=grad_loss)\n  File \"/home/sketchc89/anaconda3/envs/sdcproj2/lib/python3.5/site-packages/tensorflow/python/training/optimizer.py\", line 354, in compute_gradients\n    colocate_gradients_with_ops=colocate_gradients_with_ops)\n  File \"/home/sketchc89/anaconda3/envs/sdcproj2/lib/python3.5/site-packages/tensorflow/python/ops/gradients_impl.py\", line 482, in gradients\n    in_grads = grad_fn(op, *out_grads)\n  File \"/home/sketchc89/anaconda3/envs/sdcproj2/lib/python3.5/site-packages/tensorflow/python/ops/nn_grad.py\", line 421, in _MaxPoolGrad\n    data_format=op.get_attr(\"data_format\"))\n  File \"/home/sketchc89/anaconda3/envs/sdcproj2/lib/python3.5/site-packages/tensorflow/python/ops/gen_nn_ops.py\", line 1697, in _max_pool_grad\n    data_format=data_format, name=name)\n  File \"/home/sketchc89/anaconda3/envs/sdcproj2/lib/python3.5/site-packages/tensorflow/python/framework/op_def_library.py\", line 763, in apply_op\n    op_def=op_def)\n  File \"/home/sketchc89/anaconda3/envs/sdcproj2/lib/python3.5/site-packages/tensorflow/python/framework/ops.py\", line 2395, in create_op\n    original_op=self._default_original_op, op_def=op_def)\n  File \"/home/sketchc89/anaconda3/envs/sdcproj2/lib/python3.5/site-packages/tensorflow/python/framework/ops.py\", line 1264, in __init__\n    self._traceback = _extract_stack()\n\n...which was originally created as op 'MaxPool_4', defined at:\n  File \"/home/sketchc89/anaconda3/envs/sdcproj2/lib/python3.5/runpy.py\", line 184, in _run_module_as_main\n    \"__main__\", mod_spec)\n[elided 18 identical lines from previous traceback]\n  File \"/home/sketchc89/anaconda3/envs/sdcproj2/lib/python3.5/site-packages/IPython/core/interactiveshell.py\", line 2881, in run_code\n    exec(code_obj, self.user_global_ns, self.user_ns)\n  File \"<ipython-input-19-02725c7d7676>\", line 14, in <module>\n    pred = SketchNet(x, keep_prob)\n  File \"<ipython-input-16-c20fd16395b2>\", line 20, in SketchNet\n    pool_2 = max_pool(conv_2)\n  File \"<ipython-input-15-4d6a8a481ce4>\", line 7, in max_pool\n    padding='VALID')\n  File \"/home/sketchc89/anaconda3/envs/sdcproj2/lib/python3.5/site-packages/tensorflow/python/ops/nn_ops.py\", line 1793, in max_pool\n    name=name)\n  File \"/home/sketchc89/anaconda3/envs/sdcproj2/lib/python3.5/site-packages/tensorflow/python/ops/gen_nn_ops.py\", line 1598, in _max_pool\n    data_format=data_format, name=name)\n  File \"/home/sketchc89/anaconda3/envs/sdcproj2/lib/python3.5/site-packages/tensorflow/python/framework/op_def_library.py\", line 763, in apply_op\n    op_def=op_def)\n  File \"/home/sketchc89/anaconda3/envs/sdcproj2/lib/python3.5/site-packages/tensorflow/python/framework/ops.py\", line 2395, in create_op\n    original_op=self._default_original_op, op_def=op_def)\n  File \"/home/sketchc89/anaconda3/envs/sdcproj2/lib/python3.5/site-packages/tensorflow/python/framework/ops.py\", line 1264, in __init__\n    self._traceback = _extract_stack()\n\nResourceExhaustedError (see above for traceback): OOM when allocating tensor with shape[128,48,5,5]\n\t [[Node: gradients_1/MaxPool_4_grad/MaxPoolGrad = MaxPoolGrad[T=DT_FLOAT, data_format=\"NHWC\", ksize=[1, 2, 2, 1], padding=\"VALID\", strides=[1, 2, 2, 1], _device=\"/job:localhost/replica:0/task:0/gpu:0\"](Relu_7, MaxPool_4, gradients_1/Flatten_1/Reshape_grad/Reshape)]]\n",
     "output_type": "error",
     "traceback": [
      "\u001b[0;31m---------------------------------------------------------------------------\u001b[0m",
      "\u001b[0;31mResourceExhaustedError\u001b[0m                    Traceback (most recent call last)",
      "\u001b[0;32m/home/sketchc89/anaconda3/envs/sdcproj2/lib/python3.5/site-packages/tensorflow/python/client/session.py\u001b[0m in \u001b[0;36m_do_call\u001b[0;34m(self, fn, *args)\u001b[0m\n\u001b[1;32m   1021\u001b[0m     \u001b[0;32mtry\u001b[0m\u001b[0;34m:\u001b[0m\u001b[0;34m\u001b[0m\u001b[0m\n\u001b[0;32m-> 1022\u001b[0;31m       \u001b[0;32mreturn\u001b[0m \u001b[0mfn\u001b[0m\u001b[0;34m(\u001b[0m\u001b[0;34m*\u001b[0m\u001b[0margs\u001b[0m\u001b[0;34m)\u001b[0m\u001b[0;34m\u001b[0m\u001b[0m\n\u001b[0m\u001b[1;32m   1023\u001b[0m     \u001b[0;32mexcept\u001b[0m \u001b[0merrors\u001b[0m\u001b[0;34m.\u001b[0m\u001b[0mOpError\u001b[0m \u001b[0;32mas\u001b[0m \u001b[0me\u001b[0m\u001b[0;34m:\u001b[0m\u001b[0;34m\u001b[0m\u001b[0m\n",
      "\u001b[0;32m/home/sketchc89/anaconda3/envs/sdcproj2/lib/python3.5/site-packages/tensorflow/python/client/session.py\u001b[0m in \u001b[0;36m_run_fn\u001b[0;34m(session, feed_dict, fetch_list, target_list, options, run_metadata)\u001b[0m\n\u001b[1;32m   1003\u001b[0m                                  \u001b[0mfeed_dict\u001b[0m\u001b[0;34m,\u001b[0m \u001b[0mfetch_list\u001b[0m\u001b[0;34m,\u001b[0m \u001b[0mtarget_list\u001b[0m\u001b[0;34m,\u001b[0m\u001b[0;34m\u001b[0m\u001b[0m\n\u001b[0;32m-> 1004\u001b[0;31m                                  status, run_metadata)\n\u001b[0m\u001b[1;32m   1005\u001b[0m \u001b[0;34m\u001b[0m\u001b[0m\n",
      "\u001b[0;32m/home/sketchc89/anaconda3/envs/sdcproj2/lib/python3.5/contextlib.py\u001b[0m in \u001b[0;36m__exit__\u001b[0;34m(self, type, value, traceback)\u001b[0m\n\u001b[1;32m     65\u001b[0m             \u001b[0;32mtry\u001b[0m\u001b[0;34m:\u001b[0m\u001b[0;34m\u001b[0m\u001b[0m\n\u001b[0;32m---> 66\u001b[0;31m                 \u001b[0mnext\u001b[0m\u001b[0;34m(\u001b[0m\u001b[0mself\u001b[0m\u001b[0;34m.\u001b[0m\u001b[0mgen\u001b[0m\u001b[0;34m)\u001b[0m\u001b[0;34m\u001b[0m\u001b[0m\n\u001b[0m\u001b[1;32m     67\u001b[0m             \u001b[0;32mexcept\u001b[0m \u001b[0mStopIteration\u001b[0m\u001b[0;34m:\u001b[0m\u001b[0;34m\u001b[0m\u001b[0m\n",
      "\u001b[0;32m/home/sketchc89/anaconda3/envs/sdcproj2/lib/python3.5/site-packages/tensorflow/python/framework/errors_impl.py\u001b[0m in \u001b[0;36mraise_exception_on_not_ok_status\u001b[0;34m()\u001b[0m\n\u001b[1;32m    468\u001b[0m           \u001b[0mcompat\u001b[0m\u001b[0;34m.\u001b[0m\u001b[0mas_text\u001b[0m\u001b[0;34m(\u001b[0m\u001b[0mpywrap_tensorflow\u001b[0m\u001b[0;34m.\u001b[0m\u001b[0mTF_Message\u001b[0m\u001b[0;34m(\u001b[0m\u001b[0mstatus\u001b[0m\u001b[0;34m)\u001b[0m\u001b[0;34m)\u001b[0m\u001b[0;34m,\u001b[0m\u001b[0;34m\u001b[0m\u001b[0m\n\u001b[0;32m--> 469\u001b[0;31m           pywrap_tensorflow.TF_GetCode(status))\n\u001b[0m\u001b[1;32m    470\u001b[0m   \u001b[0;32mfinally\u001b[0m\u001b[0;34m:\u001b[0m\u001b[0;34m\u001b[0m\u001b[0m\n",
      "\u001b[0;31mResourceExhaustedError\u001b[0m: OOM when allocating tensor with shape[128,48,5,5]\n\t [[Node: gradients_1/MaxPool_4_grad/MaxPoolGrad = MaxPoolGrad[T=DT_FLOAT, data_format=\"NHWC\", ksize=[1, 2, 2, 1], padding=\"VALID\", strides=[1, 2, 2, 1], _device=\"/job:localhost/replica:0/task:0/gpu:0\"](Relu_7, MaxPool_4, gradients_1/Flatten_1/Reshape_grad/Reshape)]]",
      "\nDuring handling of the above exception, another exception occurred:\n",
      "\u001b[0;31mResourceExhaustedError\u001b[0m                    Traceback (most recent call last)",
      "\u001b[0;32m<ipython-input-24-5bbf5877ddd0>\u001b[0m in \u001b[0;36m<module>\u001b[0;34m()\u001b[0m\n\u001b[1;32m     21\u001b[0m             sess.run(training_operation, feed_dict={x: images_feed,\n\u001b[1;32m     22\u001b[0m                                                     \u001b[0my\u001b[0m\u001b[0;34m:\u001b[0m \u001b[0mlabels_feed\u001b[0m\u001b[0;34m,\u001b[0m\u001b[0;34m\u001b[0m\u001b[0m\n\u001b[0;32m---> 23\u001b[0;31m                                                     keep_prob: 0.5})\n\u001b[0m\u001b[1;32m     24\u001b[0m         \u001b[0mvalidation_accuracy\u001b[0m \u001b[0;34m=\u001b[0m \u001b[0mevaluate\u001b[0m\u001b[0;34m(\u001b[0m\u001b[0mX_valid\u001b[0m\u001b[0;34m,\u001b[0m \u001b[0my_valid\u001b[0m\u001b[0;34m)\u001b[0m\u001b[0;34m\u001b[0m\u001b[0m\n\u001b[1;32m     25\u001b[0m         \u001b[0mepoch_accuracy\u001b[0m\u001b[0;34m.\u001b[0m\u001b[0mappend\u001b[0m\u001b[0;34m(\u001b[0m\u001b[0mvalidation_accuracy\u001b[0m\u001b[0;34m)\u001b[0m\u001b[0;34m\u001b[0m\u001b[0m\n",
      "\u001b[0;32m/home/sketchc89/anaconda3/envs/sdcproj2/lib/python3.5/site-packages/tensorflow/python/client/session.py\u001b[0m in \u001b[0;36mrun\u001b[0;34m(self, fetches, feed_dict, options, run_metadata)\u001b[0m\n\u001b[1;32m    765\u001b[0m     \u001b[0;32mtry\u001b[0m\u001b[0;34m:\u001b[0m\u001b[0;34m\u001b[0m\u001b[0m\n\u001b[1;32m    766\u001b[0m       result = self._run(None, fetches, feed_dict, options_ptr,\n\u001b[0;32m--> 767\u001b[0;31m                          run_metadata_ptr)\n\u001b[0m\u001b[1;32m    768\u001b[0m       \u001b[0;32mif\u001b[0m \u001b[0mrun_metadata\u001b[0m\u001b[0;34m:\u001b[0m\u001b[0;34m\u001b[0m\u001b[0m\n\u001b[1;32m    769\u001b[0m         \u001b[0mproto_data\u001b[0m \u001b[0;34m=\u001b[0m \u001b[0mtf_session\u001b[0m\u001b[0;34m.\u001b[0m\u001b[0mTF_GetBuffer\u001b[0m\u001b[0;34m(\u001b[0m\u001b[0mrun_metadata_ptr\u001b[0m\u001b[0;34m)\u001b[0m\u001b[0;34m\u001b[0m\u001b[0m\n",
      "\u001b[0;32m/home/sketchc89/anaconda3/envs/sdcproj2/lib/python3.5/site-packages/tensorflow/python/client/session.py\u001b[0m in \u001b[0;36m_run\u001b[0;34m(self, handle, fetches, feed_dict, options, run_metadata)\u001b[0m\n\u001b[1;32m    963\u001b[0m     \u001b[0;32mif\u001b[0m \u001b[0mfinal_fetches\u001b[0m \u001b[0;32mor\u001b[0m \u001b[0mfinal_targets\u001b[0m\u001b[0;34m:\u001b[0m\u001b[0;34m\u001b[0m\u001b[0m\n\u001b[1;32m    964\u001b[0m       results = self._do_run(handle, final_targets, final_fetches,\n\u001b[0;32m--> 965\u001b[0;31m                              feed_dict_string, options, run_metadata)\n\u001b[0m\u001b[1;32m    966\u001b[0m     \u001b[0;32melse\u001b[0m\u001b[0;34m:\u001b[0m\u001b[0;34m\u001b[0m\u001b[0m\n\u001b[1;32m    967\u001b[0m       \u001b[0mresults\u001b[0m \u001b[0;34m=\u001b[0m \u001b[0;34m[\u001b[0m\u001b[0;34m]\u001b[0m\u001b[0;34m\u001b[0m\u001b[0m\n",
      "\u001b[0;32m/home/sketchc89/anaconda3/envs/sdcproj2/lib/python3.5/site-packages/tensorflow/python/client/session.py\u001b[0m in \u001b[0;36m_do_run\u001b[0;34m(self, handle, target_list, fetch_list, feed_dict, options, run_metadata)\u001b[0m\n\u001b[1;32m   1013\u001b[0m     \u001b[0;32mif\u001b[0m \u001b[0mhandle\u001b[0m \u001b[0;32mis\u001b[0m \u001b[0;32mNone\u001b[0m\u001b[0;34m:\u001b[0m\u001b[0;34m\u001b[0m\u001b[0m\n\u001b[1;32m   1014\u001b[0m       return self._do_call(_run_fn, self._session, feed_dict, fetch_list,\n\u001b[0;32m-> 1015\u001b[0;31m                            target_list, options, run_metadata)\n\u001b[0m\u001b[1;32m   1016\u001b[0m     \u001b[0;32melse\u001b[0m\u001b[0;34m:\u001b[0m\u001b[0;34m\u001b[0m\u001b[0m\n\u001b[1;32m   1017\u001b[0m       return self._do_call(_prun_fn, self._session, handle, feed_dict,\n",
      "\u001b[0;32m/home/sketchc89/anaconda3/envs/sdcproj2/lib/python3.5/site-packages/tensorflow/python/client/session.py\u001b[0m in \u001b[0;36m_do_call\u001b[0;34m(self, fn, *args)\u001b[0m\n\u001b[1;32m   1033\u001b[0m         \u001b[0;32mexcept\u001b[0m \u001b[0mKeyError\u001b[0m\u001b[0;34m:\u001b[0m\u001b[0;34m\u001b[0m\u001b[0m\n\u001b[1;32m   1034\u001b[0m           \u001b[0;32mpass\u001b[0m\u001b[0;34m\u001b[0m\u001b[0m\n\u001b[0;32m-> 1035\u001b[0;31m       \u001b[0;32mraise\u001b[0m \u001b[0mtype\u001b[0m\u001b[0;34m(\u001b[0m\u001b[0me\u001b[0m\u001b[0;34m)\u001b[0m\u001b[0;34m(\u001b[0m\u001b[0mnode_def\u001b[0m\u001b[0;34m,\u001b[0m \u001b[0mop\u001b[0m\u001b[0;34m,\u001b[0m \u001b[0mmessage\u001b[0m\u001b[0;34m)\u001b[0m\u001b[0;34m\u001b[0m\u001b[0m\n\u001b[0m\u001b[1;32m   1036\u001b[0m \u001b[0;34m\u001b[0m\u001b[0m\n\u001b[1;32m   1037\u001b[0m   \u001b[0;32mdef\u001b[0m \u001b[0m_extend_graph\u001b[0m\u001b[0;34m(\u001b[0m\u001b[0mself\u001b[0m\u001b[0;34m)\u001b[0m\u001b[0;34m:\u001b[0m\u001b[0;34m\u001b[0m\u001b[0m\n",
      "\u001b[0;31mResourceExhaustedError\u001b[0m: OOM when allocating tensor with shape[128,48,5,5]\n\t [[Node: gradients_1/MaxPool_4_grad/MaxPoolGrad = MaxPoolGrad[T=DT_FLOAT, data_format=\"NHWC\", ksize=[1, 2, 2, 1], padding=\"VALID\", strides=[1, 2, 2, 1], _device=\"/job:localhost/replica:0/task:0/gpu:0\"](Relu_7, MaxPool_4, gradients_1/Flatten_1/Reshape_grad/Reshape)]]\n\nCaused by op 'gradients_1/MaxPool_4_grad/MaxPoolGrad', defined at:\n  File \"/home/sketchc89/anaconda3/envs/sdcproj2/lib/python3.5/runpy.py\", line 184, in _run_module_as_main\n    \"__main__\", mod_spec)\n  File \"/home/sketchc89/anaconda3/envs/sdcproj2/lib/python3.5/runpy.py\", line 85, in _run_code\n    exec(code, run_globals)\n  File \"/home/sketchc89/anaconda3/envs/sdcproj2/lib/python3.5/site-packages/ipykernel/__main__.py\", line 3, in <module>\n    app.launch_new_instance()\n  File \"/home/sketchc89/anaconda3/envs/sdcproj2/lib/python3.5/site-packages/traitlets/config/application.py\", line 658, in launch_instance\n    app.start()\n  File \"/home/sketchc89/anaconda3/envs/sdcproj2/lib/python3.5/site-packages/ipykernel/kernelapp.py\", line 474, in start\n    ioloop.IOLoop.instance().start()\n  File \"/home/sketchc89/anaconda3/envs/sdcproj2/lib/python3.5/site-packages/zmq/eventloop/ioloop.py\", line 177, in start\n    super(ZMQIOLoop, self).start()\n  File \"/home/sketchc89/anaconda3/envs/sdcproj2/lib/python3.5/site-packages/tornado/ioloop.py\", line 887, in start\n    handler_func(fd_obj, events)\n  File \"/home/sketchc89/anaconda3/envs/sdcproj2/lib/python3.5/site-packages/tornado/stack_context.py\", line 275, in null_wrapper\n    return fn(*args, **kwargs)\n  File \"/home/sketchc89/anaconda3/envs/sdcproj2/lib/python3.5/site-packages/zmq/eventloop/zmqstream.py\", line 440, in _handle_events\n    self._handle_recv()\n  File \"/home/sketchc89/anaconda3/envs/sdcproj2/lib/python3.5/site-packages/zmq/eventloop/zmqstream.py\", line 472, in _handle_recv\n    self._run_callback(callback, msg)\n  File \"/home/sketchc89/anaconda3/envs/sdcproj2/lib/python3.5/site-packages/zmq/eventloop/zmqstream.py\", line 414, in _run_callback\n    callback(*args, **kwargs)\n  File \"/home/sketchc89/anaconda3/envs/sdcproj2/lib/python3.5/site-packages/tornado/stack_context.py\", line 275, in null_wrapper\n    return fn(*args, **kwargs)\n  File \"/home/sketchc89/anaconda3/envs/sdcproj2/lib/python3.5/site-packages/ipykernel/kernelbase.py\", line 276, in dispatcher\n    return self.dispatch_shell(stream, msg)\n  File \"/home/sketchc89/anaconda3/envs/sdcproj2/lib/python3.5/site-packages/ipykernel/kernelbase.py\", line 228, in dispatch_shell\n    handler(stream, idents, msg)\n  File \"/home/sketchc89/anaconda3/envs/sdcproj2/lib/python3.5/site-packages/ipykernel/kernelbase.py\", line 390, in execute_request\n    user_expressions, allow_stdin)\n  File \"/home/sketchc89/anaconda3/envs/sdcproj2/lib/python3.5/site-packages/ipykernel/ipkernel.py\", line 196, in do_execute\n    res = shell.run_cell(code, store_history=store_history, silent=silent)\n  File \"/home/sketchc89/anaconda3/envs/sdcproj2/lib/python3.5/site-packages/ipykernel/zmqshell.py\", line 501, in run_cell\n    return super(ZMQInteractiveShell, self).run_cell(*args, **kwargs)\n  File \"/home/sketchc89/anaconda3/envs/sdcproj2/lib/python3.5/site-packages/IPython/core/interactiveshell.py\", line 2717, in run_cell\n    interactivity=interactivity, compiler=compiler, result=result)\n  File \"/home/sketchc89/anaconda3/envs/sdcproj2/lib/python3.5/site-packages/IPython/core/interactiveshell.py\", line 2821, in run_ast_nodes\n    if self.run_code(code, result):\n  File \"/home/sketchc89/anaconda3/envs/sdcproj2/lib/python3.5/site-packages/IPython/core/interactiveshell.py\", line 2881, in run_code\n    exec(code_obj, self.user_global_ns, self.user_ns)\n  File \"<ipython-input-19-02725c7d7676>\", line 19, in <module>\n    training_operation = optimizer.minimize(loss_operation)\n  File \"/home/sketchc89/anaconda3/envs/sdcproj2/lib/python3.5/site-packages/tensorflow/python/training/optimizer.py\", line 288, in minimize\n    grad_loss=grad_loss)\n  File \"/home/sketchc89/anaconda3/envs/sdcproj2/lib/python3.5/site-packages/tensorflow/python/training/optimizer.py\", line 354, in compute_gradients\n    colocate_gradients_with_ops=colocate_gradients_with_ops)\n  File \"/home/sketchc89/anaconda3/envs/sdcproj2/lib/python3.5/site-packages/tensorflow/python/ops/gradients_impl.py\", line 482, in gradients\n    in_grads = grad_fn(op, *out_grads)\n  File \"/home/sketchc89/anaconda3/envs/sdcproj2/lib/python3.5/site-packages/tensorflow/python/ops/nn_grad.py\", line 421, in _MaxPoolGrad\n    data_format=op.get_attr(\"data_format\"))\n  File \"/home/sketchc89/anaconda3/envs/sdcproj2/lib/python3.5/site-packages/tensorflow/python/ops/gen_nn_ops.py\", line 1697, in _max_pool_grad\n    data_format=data_format, name=name)\n  File \"/home/sketchc89/anaconda3/envs/sdcproj2/lib/python3.5/site-packages/tensorflow/python/framework/op_def_library.py\", line 763, in apply_op\n    op_def=op_def)\n  File \"/home/sketchc89/anaconda3/envs/sdcproj2/lib/python3.5/site-packages/tensorflow/python/framework/ops.py\", line 2395, in create_op\n    original_op=self._default_original_op, op_def=op_def)\n  File \"/home/sketchc89/anaconda3/envs/sdcproj2/lib/python3.5/site-packages/tensorflow/python/framework/ops.py\", line 1264, in __init__\n    self._traceback = _extract_stack()\n\n...which was originally created as op 'MaxPool_4', defined at:\n  File \"/home/sketchc89/anaconda3/envs/sdcproj2/lib/python3.5/runpy.py\", line 184, in _run_module_as_main\n    \"__main__\", mod_spec)\n[elided 18 identical lines from previous traceback]\n  File \"/home/sketchc89/anaconda3/envs/sdcproj2/lib/python3.5/site-packages/IPython/core/interactiveshell.py\", line 2881, in run_code\n    exec(code_obj, self.user_global_ns, self.user_ns)\n  File \"<ipython-input-19-02725c7d7676>\", line 14, in <module>\n    pred = SketchNet(x, keep_prob)\n  File \"<ipython-input-16-c20fd16395b2>\", line 20, in SketchNet\n    pool_2 = max_pool(conv_2)\n  File \"<ipython-input-15-4d6a8a481ce4>\", line 7, in max_pool\n    padding='VALID')\n  File \"/home/sketchc89/anaconda3/envs/sdcproj2/lib/python3.5/site-packages/tensorflow/python/ops/nn_ops.py\", line 1793, in max_pool\n    name=name)\n  File \"/home/sketchc89/anaconda3/envs/sdcproj2/lib/python3.5/site-packages/tensorflow/python/ops/gen_nn_ops.py\", line 1598, in _max_pool\n    data_format=data_format, name=name)\n  File \"/home/sketchc89/anaconda3/envs/sdcproj2/lib/python3.5/site-packages/tensorflow/python/framework/op_def_library.py\", line 763, in apply_op\n    op_def=op_def)\n  File \"/home/sketchc89/anaconda3/envs/sdcproj2/lib/python3.5/site-packages/tensorflow/python/framework/ops.py\", line 2395, in create_op\n    original_op=self._default_original_op, op_def=op_def)\n  File \"/home/sketchc89/anaconda3/envs/sdcproj2/lib/python3.5/site-packages/tensorflow/python/framework/ops.py\", line 1264, in __init__\n    self._traceback = _extract_stack()\n\nResourceExhaustedError (see above for traceback): OOM when allocating tensor with shape[128,48,5,5]\n\t [[Node: gradients_1/MaxPool_4_grad/MaxPoolGrad = MaxPoolGrad[T=DT_FLOAT, data_format=\"NHWC\", ksize=[1, 2, 2, 1], padding=\"VALID\", strides=[1, 2, 2, 1], _device=\"/job:localhost/replica:0/task:0/gpu:0\"](Relu_7, MaxPool_4, gradients_1/Flatten_1/Reshape_grad/Reshape)]]\n"
     ]
    }
   ],
   "source": [
    "import time\n",
    "epoch_accuracy = []\n",
    "EPOCHS = 1\n",
    "BATCH_SIZE = 128\n",
    "save_file = './train_model{0}.ckpt'.format(time.time())\n",
    "saver = tf.train.Saver()\n",
    "# print('Saver successfully created')\n",
    "with tf.Session() as sess:\n",
    "#     print('Inside session')\n",
    "    init = tf.global_variables_initializer()\n",
    "    sess.run(init)\n",
    "    cur_time = time.time()\n",
    "    for epoch in range(EPOCHS):\n",
    "        X_train, y_train = shuffle(X_train, y_train)\n",
    "#         print('Shuffled batches')\n",
    "        for offset in range(0,n_train, BATCH_SIZE):\n",
    "#             if offset//BATCH_SIZE % 10 == 0:\n",
    "#                 print('BATCH {0} of {1}'.format(offset//BATCH_SIZE, n_train//BATCH_SIZE))\n",
    "            images_feed= X_train[offset:offset+BATCH_SIZE]\n",
    "            labels_feed = y_train[offset:offset+BATCH_SIZE]\n",
    "            sess.run(training_operation, feed_dict={x: images_feed,\n",
    "                                                    y: labels_feed,\n",
    "                                                    keep_prob: 0.5})\n",
    "        validation_accuracy = evaluate(X_valid, y_valid)\n",
    "        epoch_accuracy.append(validation_accuracy)\n",
    "        if epoch % 10 == 0:\n",
    "            prev_time = cur_time\n",
    "            cur_time = time.time()\n",
    "            print('EPOCH {}'.format(epoch+1))\n",
    "            print('Validation Accuracy = {:.3f}'.format(validation_accuracy))\n",
    "            print('Time/epoch {0} s\\n'.format((cur_time - prev_time)/10))\n",
    "        \n",
    "    saver.save(sess, save_file)"
   ]
  },
  {
   "cell_type": "code",
   "execution_count": 22,
   "metadata": {
    "collapsed": false
   },
   "outputs": [
    {
     "name": "stdout",
     "output_type": "stream",
     "text": [
      "BATCH 0 of 1087\n"
     ]
    },
    {
     "ename": "InvalidArgumentError",
     "evalue": "You must feed a value for placeholder tensor 'Placeholder' with dtype float\n\t [[Node: Placeholder = Placeholder[dtype=DT_FLOAT, shape=[], _device=\"/job:localhost/replica:0/task:0/gpu:0\"]()]]\n\nCaused by op 'Placeholder', defined at:\n  File \"/home/sketchc89/anaconda3/envs/sdcproj2/lib/python3.5/runpy.py\", line 184, in _run_module_as_main\n    \"__main__\", mod_spec)\n  File \"/home/sketchc89/anaconda3/envs/sdcproj2/lib/python3.5/runpy.py\", line 85, in _run_code\n    exec(code, run_globals)\n  File \"/home/sketchc89/anaconda3/envs/sdcproj2/lib/python3.5/site-packages/ipykernel/__main__.py\", line 3, in <module>\n    app.launch_new_instance()\n  File \"/home/sketchc89/anaconda3/envs/sdcproj2/lib/python3.5/site-packages/traitlets/config/application.py\", line 658, in launch_instance\n    app.start()\n  File \"/home/sketchc89/anaconda3/envs/sdcproj2/lib/python3.5/site-packages/ipykernel/kernelapp.py\", line 474, in start\n    ioloop.IOLoop.instance().start()\n  File \"/home/sketchc89/anaconda3/envs/sdcproj2/lib/python3.5/site-packages/zmq/eventloop/ioloop.py\", line 177, in start\n    super(ZMQIOLoop, self).start()\n  File \"/home/sketchc89/anaconda3/envs/sdcproj2/lib/python3.5/site-packages/tornado/ioloop.py\", line 887, in start\n    handler_func(fd_obj, events)\n  File \"/home/sketchc89/anaconda3/envs/sdcproj2/lib/python3.5/site-packages/tornado/stack_context.py\", line 275, in null_wrapper\n    return fn(*args, **kwargs)\n  File \"/home/sketchc89/anaconda3/envs/sdcproj2/lib/python3.5/site-packages/zmq/eventloop/zmqstream.py\", line 440, in _handle_events\n    self._handle_recv()\n  File \"/home/sketchc89/anaconda3/envs/sdcproj2/lib/python3.5/site-packages/zmq/eventloop/zmqstream.py\", line 472, in _handle_recv\n    self._run_callback(callback, msg)\n  File \"/home/sketchc89/anaconda3/envs/sdcproj2/lib/python3.5/site-packages/zmq/eventloop/zmqstream.py\", line 414, in _run_callback\n    callback(*args, **kwargs)\n  File \"/home/sketchc89/anaconda3/envs/sdcproj2/lib/python3.5/site-packages/tornado/stack_context.py\", line 275, in null_wrapper\n    return fn(*args, **kwargs)\n  File \"/home/sketchc89/anaconda3/envs/sdcproj2/lib/python3.5/site-packages/ipykernel/kernelbase.py\", line 276, in dispatcher\n    return self.dispatch_shell(stream, msg)\n  File \"/home/sketchc89/anaconda3/envs/sdcproj2/lib/python3.5/site-packages/ipykernel/kernelbase.py\", line 228, in dispatch_shell\n    handler(stream, idents, msg)\n  File \"/home/sketchc89/anaconda3/envs/sdcproj2/lib/python3.5/site-packages/ipykernel/kernelbase.py\", line 390, in execute_request\n    user_expressions, allow_stdin)\n  File \"/home/sketchc89/anaconda3/envs/sdcproj2/lib/python3.5/site-packages/ipykernel/ipkernel.py\", line 196, in do_execute\n    res = shell.run_cell(code, store_history=store_history, silent=silent)\n  File \"/home/sketchc89/anaconda3/envs/sdcproj2/lib/python3.5/site-packages/ipykernel/zmqshell.py\", line 501, in run_cell\n    return super(ZMQInteractiveShell, self).run_cell(*args, **kwargs)\n  File \"/home/sketchc89/anaconda3/envs/sdcproj2/lib/python3.5/site-packages/IPython/core/interactiveshell.py\", line 2717, in run_cell\n    interactivity=interactivity, compiler=compiler, result=result)\n  File \"/home/sketchc89/anaconda3/envs/sdcproj2/lib/python3.5/site-packages/IPython/core/interactiveshell.py\", line 2821, in run_ast_nodes\n    if self.run_code(code, result):\n  File \"/home/sketchc89/anaconda3/envs/sdcproj2/lib/python3.5/site-packages/IPython/core/interactiveshell.py\", line 2881, in run_code\n    exec(code_obj, self.user_global_ns, self.user_ns)\n  File \"<ipython-input-18-d83e4c07fd47>\", line 7, in <module>\n    x = tf.placeholder(tf.float32, (None, 32, 32, 3))\n  File \"/home/sketchc89/anaconda3/envs/sdcproj2/lib/python3.5/site-packages/tensorflow/python/ops/array_ops.py\", line 1520, in placeholder\n    name=name)\n  File \"/home/sketchc89/anaconda3/envs/sdcproj2/lib/python3.5/site-packages/tensorflow/python/ops/gen_array_ops.py\", line 2149, in _placeholder\n    name=name)\n  File \"/home/sketchc89/anaconda3/envs/sdcproj2/lib/python3.5/site-packages/tensorflow/python/framework/op_def_library.py\", line 763, in apply_op\n    op_def=op_def)\n  File \"/home/sketchc89/anaconda3/envs/sdcproj2/lib/python3.5/site-packages/tensorflow/python/framework/ops.py\", line 2395, in create_op\n    original_op=self._default_original_op, op_def=op_def)\n  File \"/home/sketchc89/anaconda3/envs/sdcproj2/lib/python3.5/site-packages/tensorflow/python/framework/ops.py\", line 1264, in __init__\n    self._traceback = _extract_stack()\n\nInvalidArgumentError (see above for traceback): You must feed a value for placeholder tensor 'Placeholder' with dtype float\n\t [[Node: Placeholder = Placeholder[dtype=DT_FLOAT, shape=[], _device=\"/job:localhost/replica:0/task:0/gpu:0\"]()]]\n",
     "output_type": "error",
     "traceback": [
      "\u001b[0;31m---------------------------------------------------------------------------\u001b[0m",
      "\u001b[0;31mInvalidArgumentError\u001b[0m                      Traceback (most recent call last)",
      "\u001b[0;32m/home/sketchc89/anaconda3/envs/sdcproj2/lib/python3.5/site-packages/tensorflow/python/client/session.py\u001b[0m in \u001b[0;36m_do_call\u001b[0;34m(self, fn, *args)\u001b[0m\n\u001b[1;32m   1021\u001b[0m     \u001b[0;32mtry\u001b[0m\u001b[0;34m:\u001b[0m\u001b[0;34m\u001b[0m\u001b[0m\n\u001b[0;32m-> 1022\u001b[0;31m       \u001b[0;32mreturn\u001b[0m \u001b[0mfn\u001b[0m\u001b[0;34m(\u001b[0m\u001b[0;34m*\u001b[0m\u001b[0margs\u001b[0m\u001b[0;34m)\u001b[0m\u001b[0;34m\u001b[0m\u001b[0m\n\u001b[0m\u001b[1;32m   1023\u001b[0m     \u001b[0;32mexcept\u001b[0m \u001b[0merrors\u001b[0m\u001b[0;34m.\u001b[0m\u001b[0mOpError\u001b[0m \u001b[0;32mas\u001b[0m \u001b[0me\u001b[0m\u001b[0;34m:\u001b[0m\u001b[0;34m\u001b[0m\u001b[0m\n",
      "\u001b[0;32m/home/sketchc89/anaconda3/envs/sdcproj2/lib/python3.5/site-packages/tensorflow/python/client/session.py\u001b[0m in \u001b[0;36m_run_fn\u001b[0;34m(session, feed_dict, fetch_list, target_list, options, run_metadata)\u001b[0m\n\u001b[1;32m   1003\u001b[0m                                  \u001b[0mfeed_dict\u001b[0m\u001b[0;34m,\u001b[0m \u001b[0mfetch_list\u001b[0m\u001b[0;34m,\u001b[0m \u001b[0mtarget_list\u001b[0m\u001b[0;34m,\u001b[0m\u001b[0;34m\u001b[0m\u001b[0m\n\u001b[0;32m-> 1004\u001b[0;31m                                  status, run_metadata)\n\u001b[0m\u001b[1;32m   1005\u001b[0m \u001b[0;34m\u001b[0m\u001b[0m\n",
      "\u001b[0;32m/home/sketchc89/anaconda3/envs/sdcproj2/lib/python3.5/contextlib.py\u001b[0m in \u001b[0;36m__exit__\u001b[0;34m(self, type, value, traceback)\u001b[0m\n\u001b[1;32m     65\u001b[0m             \u001b[0;32mtry\u001b[0m\u001b[0;34m:\u001b[0m\u001b[0;34m\u001b[0m\u001b[0m\n\u001b[0;32m---> 66\u001b[0;31m                 \u001b[0mnext\u001b[0m\u001b[0;34m(\u001b[0m\u001b[0mself\u001b[0m\u001b[0;34m.\u001b[0m\u001b[0mgen\u001b[0m\u001b[0;34m)\u001b[0m\u001b[0;34m\u001b[0m\u001b[0m\n\u001b[0m\u001b[1;32m     67\u001b[0m             \u001b[0;32mexcept\u001b[0m \u001b[0mStopIteration\u001b[0m\u001b[0;34m:\u001b[0m\u001b[0;34m\u001b[0m\u001b[0m\n",
      "\u001b[0;32m/home/sketchc89/anaconda3/envs/sdcproj2/lib/python3.5/site-packages/tensorflow/python/framework/errors_impl.py\u001b[0m in \u001b[0;36mraise_exception_on_not_ok_status\u001b[0;34m()\u001b[0m\n\u001b[1;32m    468\u001b[0m           \u001b[0mcompat\u001b[0m\u001b[0;34m.\u001b[0m\u001b[0mas_text\u001b[0m\u001b[0;34m(\u001b[0m\u001b[0mpywrap_tensorflow\u001b[0m\u001b[0;34m.\u001b[0m\u001b[0mTF_Message\u001b[0m\u001b[0;34m(\u001b[0m\u001b[0mstatus\u001b[0m\u001b[0;34m)\u001b[0m\u001b[0;34m)\u001b[0m\u001b[0;34m,\u001b[0m\u001b[0;34m\u001b[0m\u001b[0m\n\u001b[0;32m--> 469\u001b[0;31m           pywrap_tensorflow.TF_GetCode(status))\n\u001b[0m\u001b[1;32m    470\u001b[0m   \u001b[0;32mfinally\u001b[0m\u001b[0;34m:\u001b[0m\u001b[0;34m\u001b[0m\u001b[0m\n",
      "\u001b[0;31mInvalidArgumentError\u001b[0m: You must feed a value for placeholder tensor 'Placeholder' with dtype float\n\t [[Node: Placeholder = Placeholder[dtype=DT_FLOAT, shape=[], _device=\"/job:localhost/replica:0/task:0/gpu:0\"]()]]",
      "\nDuring handling of the above exception, another exception occurred:\n",
      "\u001b[0;31mInvalidArgumentError\u001b[0m                      Traceback (most recent call last)",
      "\u001b[0;32m<ipython-input-22-6f364ea725f5>\u001b[0m in \u001b[0;36m<module>\u001b[0;34m()\u001b[0m\n\u001b[1;32m     21\u001b[0m             sess.run(training_operation2, feed_dict={x: images_feed,\n\u001b[1;32m     22\u001b[0m                                                     \u001b[0my\u001b[0m\u001b[0;34m:\u001b[0m \u001b[0mlabels_feed\u001b[0m\u001b[0;34m,\u001b[0m\u001b[0;34m\u001b[0m\u001b[0m\n\u001b[0;32m---> 23\u001b[0;31m                                                     keep_prob: 0.5})\n\u001b[0m\u001b[1;32m     24\u001b[0m         \u001b[0mvalidation_accuracy\u001b[0m \u001b[0;34m=\u001b[0m \u001b[0mevaluate2\u001b[0m\u001b[0;34m(\u001b[0m\u001b[0mX_valid\u001b[0m\u001b[0;34m,\u001b[0m \u001b[0my_valid\u001b[0m\u001b[0;34m)\u001b[0m\u001b[0;34m\u001b[0m\u001b[0m\n\u001b[1;32m     25\u001b[0m         \u001b[0mepoch_accuracy\u001b[0m\u001b[0;34m.\u001b[0m\u001b[0mappend\u001b[0m\u001b[0;34m(\u001b[0m\u001b[0mvalidation_accuracy\u001b[0m\u001b[0;34m)\u001b[0m\u001b[0;34m\u001b[0m\u001b[0m\n",
      "\u001b[0;32m/home/sketchc89/anaconda3/envs/sdcproj2/lib/python3.5/site-packages/tensorflow/python/client/session.py\u001b[0m in \u001b[0;36mrun\u001b[0;34m(self, fetches, feed_dict, options, run_metadata)\u001b[0m\n\u001b[1;32m    765\u001b[0m     \u001b[0;32mtry\u001b[0m\u001b[0;34m:\u001b[0m\u001b[0;34m\u001b[0m\u001b[0m\n\u001b[1;32m    766\u001b[0m       result = self._run(None, fetches, feed_dict, options_ptr,\n\u001b[0;32m--> 767\u001b[0;31m                          run_metadata_ptr)\n\u001b[0m\u001b[1;32m    768\u001b[0m       \u001b[0;32mif\u001b[0m \u001b[0mrun_metadata\u001b[0m\u001b[0;34m:\u001b[0m\u001b[0;34m\u001b[0m\u001b[0m\n\u001b[1;32m    769\u001b[0m         \u001b[0mproto_data\u001b[0m \u001b[0;34m=\u001b[0m \u001b[0mtf_session\u001b[0m\u001b[0;34m.\u001b[0m\u001b[0mTF_GetBuffer\u001b[0m\u001b[0;34m(\u001b[0m\u001b[0mrun_metadata_ptr\u001b[0m\u001b[0;34m)\u001b[0m\u001b[0;34m\u001b[0m\u001b[0m\n",
      "\u001b[0;32m/home/sketchc89/anaconda3/envs/sdcproj2/lib/python3.5/site-packages/tensorflow/python/client/session.py\u001b[0m in \u001b[0;36m_run\u001b[0;34m(self, handle, fetches, feed_dict, options, run_metadata)\u001b[0m\n\u001b[1;32m    963\u001b[0m     \u001b[0;32mif\u001b[0m \u001b[0mfinal_fetches\u001b[0m \u001b[0;32mor\u001b[0m \u001b[0mfinal_targets\u001b[0m\u001b[0;34m:\u001b[0m\u001b[0;34m\u001b[0m\u001b[0m\n\u001b[1;32m    964\u001b[0m       results = self._do_run(handle, final_targets, final_fetches,\n\u001b[0;32m--> 965\u001b[0;31m                              feed_dict_string, options, run_metadata)\n\u001b[0m\u001b[1;32m    966\u001b[0m     \u001b[0;32melse\u001b[0m\u001b[0;34m:\u001b[0m\u001b[0;34m\u001b[0m\u001b[0m\n\u001b[1;32m    967\u001b[0m       \u001b[0mresults\u001b[0m \u001b[0;34m=\u001b[0m \u001b[0;34m[\u001b[0m\u001b[0;34m]\u001b[0m\u001b[0;34m\u001b[0m\u001b[0m\n",
      "\u001b[0;32m/home/sketchc89/anaconda3/envs/sdcproj2/lib/python3.5/site-packages/tensorflow/python/client/session.py\u001b[0m in \u001b[0;36m_do_run\u001b[0;34m(self, handle, target_list, fetch_list, feed_dict, options, run_metadata)\u001b[0m\n\u001b[1;32m   1013\u001b[0m     \u001b[0;32mif\u001b[0m \u001b[0mhandle\u001b[0m \u001b[0;32mis\u001b[0m \u001b[0;32mNone\u001b[0m\u001b[0;34m:\u001b[0m\u001b[0;34m\u001b[0m\u001b[0m\n\u001b[1;32m   1014\u001b[0m       return self._do_call(_run_fn, self._session, feed_dict, fetch_list,\n\u001b[0;32m-> 1015\u001b[0;31m                            target_list, options, run_metadata)\n\u001b[0m\u001b[1;32m   1016\u001b[0m     \u001b[0;32melse\u001b[0m\u001b[0;34m:\u001b[0m\u001b[0;34m\u001b[0m\u001b[0m\n\u001b[1;32m   1017\u001b[0m       return self._do_call(_prun_fn, self._session, handle, feed_dict,\n",
      "\u001b[0;32m/home/sketchc89/anaconda3/envs/sdcproj2/lib/python3.5/site-packages/tensorflow/python/client/session.py\u001b[0m in \u001b[0;36m_do_call\u001b[0;34m(self, fn, *args)\u001b[0m\n\u001b[1;32m   1033\u001b[0m         \u001b[0;32mexcept\u001b[0m \u001b[0mKeyError\u001b[0m\u001b[0;34m:\u001b[0m\u001b[0;34m\u001b[0m\u001b[0m\n\u001b[1;32m   1034\u001b[0m           \u001b[0;32mpass\u001b[0m\u001b[0;34m\u001b[0m\u001b[0m\n\u001b[0;32m-> 1035\u001b[0;31m       \u001b[0;32mraise\u001b[0m \u001b[0mtype\u001b[0m\u001b[0;34m(\u001b[0m\u001b[0me\u001b[0m\u001b[0;34m)\u001b[0m\u001b[0;34m(\u001b[0m\u001b[0mnode_def\u001b[0m\u001b[0;34m,\u001b[0m \u001b[0mop\u001b[0m\u001b[0;34m,\u001b[0m \u001b[0mmessage\u001b[0m\u001b[0;34m)\u001b[0m\u001b[0;34m\u001b[0m\u001b[0m\n\u001b[0m\u001b[1;32m   1036\u001b[0m \u001b[0;34m\u001b[0m\u001b[0m\n\u001b[1;32m   1037\u001b[0m   \u001b[0;32mdef\u001b[0m \u001b[0m_extend_graph\u001b[0m\u001b[0;34m(\u001b[0m\u001b[0mself\u001b[0m\u001b[0;34m)\u001b[0m\u001b[0;34m:\u001b[0m\u001b[0;34m\u001b[0m\u001b[0m\n",
      "\u001b[0;31mInvalidArgumentError\u001b[0m: You must feed a value for placeholder tensor 'Placeholder' with dtype float\n\t [[Node: Placeholder = Placeholder[dtype=DT_FLOAT, shape=[], _device=\"/job:localhost/replica:0/task:0/gpu:0\"]()]]\n\nCaused by op 'Placeholder', defined at:\n  File \"/home/sketchc89/anaconda3/envs/sdcproj2/lib/python3.5/runpy.py\", line 184, in _run_module_as_main\n    \"__main__\", mod_spec)\n  File \"/home/sketchc89/anaconda3/envs/sdcproj2/lib/python3.5/runpy.py\", line 85, in _run_code\n    exec(code, run_globals)\n  File \"/home/sketchc89/anaconda3/envs/sdcproj2/lib/python3.5/site-packages/ipykernel/__main__.py\", line 3, in <module>\n    app.launch_new_instance()\n  File \"/home/sketchc89/anaconda3/envs/sdcproj2/lib/python3.5/site-packages/traitlets/config/application.py\", line 658, in launch_instance\n    app.start()\n  File \"/home/sketchc89/anaconda3/envs/sdcproj2/lib/python3.5/site-packages/ipykernel/kernelapp.py\", line 474, in start\n    ioloop.IOLoop.instance().start()\n  File \"/home/sketchc89/anaconda3/envs/sdcproj2/lib/python3.5/site-packages/zmq/eventloop/ioloop.py\", line 177, in start\n    super(ZMQIOLoop, self).start()\n  File \"/home/sketchc89/anaconda3/envs/sdcproj2/lib/python3.5/site-packages/tornado/ioloop.py\", line 887, in start\n    handler_func(fd_obj, events)\n  File \"/home/sketchc89/anaconda3/envs/sdcproj2/lib/python3.5/site-packages/tornado/stack_context.py\", line 275, in null_wrapper\n    return fn(*args, **kwargs)\n  File \"/home/sketchc89/anaconda3/envs/sdcproj2/lib/python3.5/site-packages/zmq/eventloop/zmqstream.py\", line 440, in _handle_events\n    self._handle_recv()\n  File \"/home/sketchc89/anaconda3/envs/sdcproj2/lib/python3.5/site-packages/zmq/eventloop/zmqstream.py\", line 472, in _handle_recv\n    self._run_callback(callback, msg)\n  File \"/home/sketchc89/anaconda3/envs/sdcproj2/lib/python3.5/site-packages/zmq/eventloop/zmqstream.py\", line 414, in _run_callback\n    callback(*args, **kwargs)\n  File \"/home/sketchc89/anaconda3/envs/sdcproj2/lib/python3.5/site-packages/tornado/stack_context.py\", line 275, in null_wrapper\n    return fn(*args, **kwargs)\n  File \"/home/sketchc89/anaconda3/envs/sdcproj2/lib/python3.5/site-packages/ipykernel/kernelbase.py\", line 276, in dispatcher\n    return self.dispatch_shell(stream, msg)\n  File \"/home/sketchc89/anaconda3/envs/sdcproj2/lib/python3.5/site-packages/ipykernel/kernelbase.py\", line 228, in dispatch_shell\n    handler(stream, idents, msg)\n  File \"/home/sketchc89/anaconda3/envs/sdcproj2/lib/python3.5/site-packages/ipykernel/kernelbase.py\", line 390, in execute_request\n    user_expressions, allow_stdin)\n  File \"/home/sketchc89/anaconda3/envs/sdcproj2/lib/python3.5/site-packages/ipykernel/ipkernel.py\", line 196, in do_execute\n    res = shell.run_cell(code, store_history=store_history, silent=silent)\n  File \"/home/sketchc89/anaconda3/envs/sdcproj2/lib/python3.5/site-packages/ipykernel/zmqshell.py\", line 501, in run_cell\n    return super(ZMQInteractiveShell, self).run_cell(*args, **kwargs)\n  File \"/home/sketchc89/anaconda3/envs/sdcproj2/lib/python3.5/site-packages/IPython/core/interactiveshell.py\", line 2717, in run_cell\n    interactivity=interactivity, compiler=compiler, result=result)\n  File \"/home/sketchc89/anaconda3/envs/sdcproj2/lib/python3.5/site-packages/IPython/core/interactiveshell.py\", line 2821, in run_ast_nodes\n    if self.run_code(code, result):\n  File \"/home/sketchc89/anaconda3/envs/sdcproj2/lib/python3.5/site-packages/IPython/core/interactiveshell.py\", line 2881, in run_code\n    exec(code_obj, self.user_global_ns, self.user_ns)\n  File \"<ipython-input-18-d83e4c07fd47>\", line 7, in <module>\n    x = tf.placeholder(tf.float32, (None, 32, 32, 3))\n  File \"/home/sketchc89/anaconda3/envs/sdcproj2/lib/python3.5/site-packages/tensorflow/python/ops/array_ops.py\", line 1520, in placeholder\n    name=name)\n  File \"/home/sketchc89/anaconda3/envs/sdcproj2/lib/python3.5/site-packages/tensorflow/python/ops/gen_array_ops.py\", line 2149, in _placeholder\n    name=name)\n  File \"/home/sketchc89/anaconda3/envs/sdcproj2/lib/python3.5/site-packages/tensorflow/python/framework/op_def_library.py\", line 763, in apply_op\n    op_def=op_def)\n  File \"/home/sketchc89/anaconda3/envs/sdcproj2/lib/python3.5/site-packages/tensorflow/python/framework/ops.py\", line 2395, in create_op\n    original_op=self._default_original_op, op_def=op_def)\n  File \"/home/sketchc89/anaconda3/envs/sdcproj2/lib/python3.5/site-packages/tensorflow/python/framework/ops.py\", line 1264, in __init__\n    self._traceback = _extract_stack()\n\nInvalidArgumentError (see above for traceback): You must feed a value for placeholder tensor 'Placeholder' with dtype float\n\t [[Node: Placeholder = Placeholder[dtype=DT_FLOAT, shape=[], _device=\"/job:localhost/replica:0/task:0/gpu:0\"]()]]\n"
     ]
    }
   ],
   "source": [
    "import time\n",
    "epoch_accuracy = []\n",
    "EPOCHS = 1000\n",
    "BATCH_SIZE = 32\n",
    "save_file = './train_model2.ckpt'\n",
    "saver = tf.train.Saver()\n",
    "# print('Saver successfully created')\n",
    "with tf.Session() as sess:\n",
    "#     print('Inside session')\n",
    "    init = tf.global_variables_initializer()\n",
    "    sess.run(init)\n",
    "    cur_time = time.time()\n",
    "    for epoch in range(EPOCHS):\n",
    "        X_train, y_train = shuffle(X_train, y_train)\n",
    "#         print('Shuffled batches')\n",
    "        for offset in range(0,n_train, BATCH_SIZE):\n",
    "            if offset//BATCH_SIZE % 100 == 0:\n",
    "                print('BATCH {0} of {1}'.format(offset//BATCH_SIZE, n_train//BATCH_SIZE))\n",
    "            images_feed= X_train[offset:offset+BATCH_SIZE]\n",
    "            labels_feed = y_train[offset:offset+BATCH_SIZE]\n",
    "            sess.run(training_operation2, feed_dict={x: images_feed,\n",
    "                                                    y: labels_feed,\n",
    "                                                    keep_prob: 0.5})\n",
    "        validation_accuracy = evaluate2(X_valid, y_valid)\n",
    "        epoch_accuracy.append(validation_accuracy)\n",
    "        if epoch % 10 == 0:\n",
    "            prev_time = cur_time\n",
    "            cur_time = time.time()\n",
    "            print('EPOCH {}'.format(epoch+1))\n",
    "            print('Validation Accuracy = {:.3f}'.format(validation_accuracy))\n",
    "            print('Time/epoch {0} s\\n'.format((cur_time - prev_time)/10))\n",
    "        \n",
    "    saver.save(sess, save_file)"
   ]
  },
  {
   "cell_type": "markdown",
   "metadata": {},
   "source": [
    "---\n",
    "\n",
    "## Step 3: Test a Model on New Images\n",
    "\n",
    "To give yourself more insight into how your model is working, download at least five pictures of German traffic signs from the web and use your model to predict the traffic sign type.\n",
    "\n",
    "You may find `signnames.csv` useful as it contains mappings from the class id (integer) to the actual sign name."
   ]
  },
  {
   "cell_type": "markdown",
   "metadata": {},
   "source": [
    "### Load and Output the Images"
   ]
  },
  {
   "cell_type": "code",
   "execution_count": null,
   "metadata": {
    "collapsed": true
   },
   "outputs": [],
   "source": [
    "### Load the images and plot them here.\n",
    "### Feel free to use as many code cells as needed.\n"
   ]
  },
  {
   "cell_type": "markdown",
   "metadata": {},
   "source": [
    "### Predict the Sign Type for Each Image"
   ]
  },
  {
   "cell_type": "code",
   "execution_count": null,
   "metadata": {
    "collapsed": true
   },
   "outputs": [],
   "source": [
    "### Run the predictions here and use the model to output the prediction for each image.\n",
    "### Make sure to pre-process the images with the same pre-processing pipeline used earlier.\n",
    "### Feel free to use as many code cells as needed."
   ]
  },
  {
   "cell_type": "markdown",
   "metadata": {},
   "source": [
    "### Analyze Performance"
   ]
  },
  {
   "cell_type": "code",
   "execution_count": null,
   "metadata": {
    "collapsed": true
   },
   "outputs": [],
   "source": [
    "### Calculate the accuracy for these 5 new images. \n",
    "### For example, if the model predicted 1 out of 5 signs correctly, it's 20% accurate on these new images."
   ]
  },
  {
   "cell_type": "markdown",
   "metadata": {},
   "source": [
    "### Output Top 5 Softmax Probabilities For Each Image Found on the Web"
   ]
  },
  {
   "cell_type": "markdown",
   "metadata": {},
   "source": [
    "For each of the new images, print out the model's softmax probabilities to show the **certainty** of the model's predictions (limit the output to the top 5 probabilities for each image). [`tf.nn.top_k`](https://www.tensorflow.org/versions/r0.12/api_docs/python/nn.html#top_k) could prove helpful here. \n",
    "\n",
    "The example below demonstrates how tf.nn.top_k can be used to find the top k predictions for each image.\n",
    "\n",
    "`tf.nn.top_k` will return the values and indices (class ids) of the top k predictions. So if k=3, for each sign, it'll return the 3 largest probabilities (out of a possible 43) and the correspoding class ids.\n",
    "\n",
    "Take this numpy array as an example. The values in the array represent predictions. The array contains softmax probabilities for five candidate images with six possible classes. `tk.nn.top_k` is used to choose the three classes with the highest probability:\n",
    "\n",
    "```\n",
    "# (5, 6) array\n",
    "a = np.array([[ 0.24879643,  0.07032244,  0.12641572,  0.34763842,  0.07893497,\n",
    "         0.12789202],\n",
    "       [ 0.28086119,  0.27569815,  0.08594638,  0.0178669 ,  0.18063401,\n",
    "         0.15899337],\n",
    "       [ 0.26076848,  0.23664738,  0.08020603,  0.07001922,  0.1134371 ,\n",
    "         0.23892179],\n",
    "       [ 0.11943333,  0.29198961,  0.02605103,  0.26234032,  0.1351348 ,\n",
    "         0.16505091],\n",
    "       [ 0.09561176,  0.34396535,  0.0643941 ,  0.16240774,  0.24206137,\n",
    "         0.09155967]])\n",
    "```\n",
    "\n",
    "Running it through `sess.run(tf.nn.top_k(tf.constant(a), k=3))` produces:\n",
    "\n",
    "```\n",
    "TopKV2(values=array([[ 0.34763842,  0.24879643,  0.12789202],\n",
    "       [ 0.28086119,  0.27569815,  0.18063401],\n",
    "       [ 0.26076848,  0.23892179,  0.23664738],\n",
    "       [ 0.29198961,  0.26234032,  0.16505091],\n",
    "       [ 0.34396535,  0.24206137,  0.16240774]]), indices=array([[3, 0, 5],\n",
    "       [0, 1, 4],\n",
    "       [0, 5, 1],\n",
    "       [1, 3, 5],\n",
    "       [1, 4, 3]], dtype=int32))\n",
    "```\n",
    "\n",
    "Looking just at the first row we get `[ 0.34763842,  0.24879643,  0.12789202]`, you can confirm these are the 3 largest probabilities in `a`. You'll also notice `[3, 0, 5]` are the corresponding indices."
   ]
  },
  {
   "cell_type": "code",
   "execution_count": null,
   "metadata": {
    "collapsed": true
   },
   "outputs": [],
   "source": [
    "### Print out the top five softmax probabilities for the predictions on the German traffic sign images found on the web. \n",
    "### Feel free to use as many code cells as needed."
   ]
  },
  {
   "cell_type": "markdown",
   "metadata": {},
   "source": [
    "---\n",
    "\n",
    "## Step 4: Visualize the Neural Network's State with Test Images\n",
    "\n",
    " This Section is not required to complete but acts as an additional excersise for understaning the output of a neural network's weights. While neural networks can be a great learning device they are often referred to as a black box. We can understand what the weights of a neural network look like better by plotting their feature maps. After successfully training your neural network you can see what it's feature maps look like by plotting the output of the network's weight layers in response to a test stimuli image. From these plotted feature maps, it's possible to see what characteristics of an image the network finds interesting. For a sign, maybe the inner network feature maps react with high activation to the sign's boundary outline or to the contrast in the sign's painted symbol.\n",
    "\n",
    " Provided for you below is the function code that allows you to get the visualization output of any tensorflow weight layer you want. The inputs to the function should be a stimuli image, one used during training or a new one you provided, and then the tensorflow variable name that represents the layer's state during the training process, for instance if you wanted to see what the [LeNet lab's](https://classroom.udacity.com/nanodegrees/nd013/parts/fbf77062-5703-404e-b60c-95b78b2f3f9e/modules/6df7ae49-c61c-4bb2-a23e-6527e69209ec/lessons/601ae704-1035-4287-8b11-e2c2716217ad/concepts/d4aca031-508f-4e0b-b493-e7b706120f81) feature maps looked like for it's second convolutional layer you could enter conv2 as the tf_activation variable.\n",
    "\n",
    "For an example of what feature map outputs look like, check out NVIDIA's results in their paper [End-to-End Deep Learning for Self-Driving Cars](https://devblogs.nvidia.com/parallelforall/deep-learning-self-driving-cars/) in the section Visualization of internal CNN State. NVIDIA was able to show that their network's inner weights had high activations to road boundary lines by comparing feature maps from an image with a clear path to one without. Try experimenting with a similar test to show that your trained network's weights are looking for interesting features, whether it's looking at differences in feature maps from images with or without a sign, or even what feature maps look like in a trained network vs a completely untrained one on the same sign image.\n",
    "\n",
    "<figure>\n",
    " <img src=\"visualize_cnn.png\" width=\"380\" alt=\"Combined Image\" />\n",
    " <figcaption>\n",
    " <p></p> \n",
    " <p style=\"text-align: center;\"> Your output should look something like this (above)</p> \n",
    " </figcaption>\n",
    "</figure>\n",
    " <p></p> \n"
   ]
  },
  {
   "cell_type": "code",
   "execution_count": null,
   "metadata": {
    "collapsed": true
   },
   "outputs": [],
   "source": [
    "### Visualize your network's feature maps here.\n",
    "### Feel free to use as many code cells as needed.\n",
    "\n",
    "# image_input: the test image being fed into the network to produce the feature maps\n",
    "# tf_activation: should be a tf variable name used during your training procedure that represents the calculated state of a specific weight layer\n",
    "# activation_min/max: can be used to view the activation contrast in more detail, by default matplot sets min and max to the actual min and max values of the output\n",
    "# plt_num: used to plot out multiple different weight feature map sets on the same block, just extend the plt number for each new feature map entry\n",
    "\n",
    "def outputFeatureMap(image_input, tf_activation, activation_min=-1, activation_max=-1 ,plt_num=1):\n",
    "    # Here make sure to preprocess your image_input in a way your network expects\n",
    "    # with size, normalization, ect if needed\n",
    "    # image_input =\n",
    "    # Note: x should be the same name as your network's tensorflow data placeholder variable\n",
    "    # If you get an error tf_activation is not defined it maybe having trouble accessing the variable from inside a function\n",
    "    activation = tf_activation.eval(session=sess,feed_dict={x : image_input})\n",
    "    featuremaps = activation.shape[3]\n",
    "    plt.figure(plt_num, figsize=(15,15))\n",
    "    for featuremap in range(featuremaps):\n",
    "        plt.subplot(6,8, featuremap+1) # sets the number of feature maps to show on each row and column\n",
    "        plt.title('FeatureMap ' + str(featuremap)) # displays the feature map number\n",
    "        if activation_min != -1 & activation_max != -1:\n",
    "            plt.imshow(activation[0,:,:, featuremap], interpolation=\"nearest\", vmin =activation_min, vmax=activation_max, cmap=\"gray\")\n",
    "        elif activation_max != -1:\n",
    "            plt.imshow(activation[0,:,:, featuremap], interpolation=\"nearest\", vmax=activation_max, cmap=\"gray\")\n",
    "        elif activation_min !=-1:\n",
    "            plt.imshow(activation[0,:,:, featuremap], interpolation=\"nearest\", vmin=activation_min, cmap=\"gray\")\n",
    "        else:\n",
    "            plt.imshow(activation[0,:,:, featuremap], interpolation=\"nearest\", cmap=\"gray\")"
   ]
  },
  {
   "cell_type": "markdown",
   "metadata": {},
   "source": [
    "### Question 9\n",
    "\n",
    "Discuss how you used the visual output of your trained network's feature maps to show that it had learned to look for interesting characteristics in traffic sign images\n"
   ]
  },
  {
   "cell_type": "markdown",
   "metadata": {},
   "source": [
    "**Answer:**"
   ]
  },
  {
   "cell_type": "markdown",
   "metadata": {},
   "source": [
    "> **Note**: Once you have completed all of the code implementations and successfully answered each question above, you may finalize your work by exporting the iPython Notebook as an HTML document. You can do this by using the menu above and navigating to  \\n\",\n",
    "    \"**File -> Download as -> HTML (.html)**. Include the finished document along with this notebook as your submission."
   ]
  },
  {
   "cell_type": "markdown",
   "metadata": {},
   "source": [
    "### Project Writeup\n",
    "\n",
    "Once you have completed the code implementation, document your results in a project writeup using this [template](https://github.com/udacity/CarND-Traffic-Sign-Classifier-Project/blob/master/writeup_template.md) as a guide. The writeup can be in a markdown or pdf file. "
   ]
  },
  {
   "cell_type": "code",
   "execution_count": null,
   "metadata": {
    "collapsed": true
   },
   "outputs": [],
   "source": [
    "# ### Define your architecture here.\n",
    "# ### Feel free to use as many code cells as needed.\n",
    "# def SketchNet(x, num_classes=43):\n",
    "#     #Input Layer\n",
    "#     input_layer = tf.reshape(x, [-1, 32, 32, 3])\n",
    "#     print('Layer 0 Init: Shape {}'.format(x.get_shape()))\n",
    "    \n",
    "#     mu = 0\n",
    "#     sigma = 0\n",
    "#     batch_size = 1\n",
    "#     padding = 'VALID'\n",
    "    \n",
    "#     cnn_filt = [5,5]\n",
    "#     pool_filt = [2,2]\n",
    "#     cnn_stride = [1,1,1,1]\n",
    "#     kconv = 5\n",
    "#     kpool = 2\n",
    "    \n",
    "#     depth = [1, 6, 16, 400, 160, 96, num_classes]\n",
    "    \n",
    "    \n",
    "#     conv1 = tf.layers.conv2d(inputs=input_layer,\n",
    "#                              filters=32,\n",
    "#                              kernel_size=kconv,\n",
    "#                              padding='VALID',\n",
    "#                              activation=tf.nn.relu)\n",
    "#     print('Layer 1 Convolution: Shape {}'.format(x.get_shape()))\n",
    "    \n",
    "#     pool1 = tf.layers.max_pooling2d(inputs=conv1,\n",
    "#                                     pool_size=kpool,\n",
    "#                                     strides=2)\n",
    "#     print('Layer 2 Pooling: Shape {}'.format(x.get_shape()))\n",
    "    \n",
    "#     conv2 = tf.layers.conv2d(inputs=input_layer,\n",
    "#                              filters=32,\n",
    "#                              kernel_size=kconv,\n",
    "#                              padding='VALID',\n",
    "#                              activation=tf.nn.relu)\n",
    "#     print('Layer 3 Convolution: Shape {}'.format(x.get_shape()))\n",
    "    \n",
    "#     ksize = [batch_size, pool_filt[0], pool_filt[1], 1]\n",
    "#     strides = [batch_size, pool_filt[0], pool_filt[1], 1]\n",
    "#     x = tf.nn.max_pool(x, ksize, strides, padding)\n",
    "#     print('Layer 4 Pooling: Shape {}'.format(x.get_shape()))\n",
    "    \n",
    "#     x = tf.contrib.layers.flatten(x)\n",
    "#     print('Layer 5 Flatten: Shape {}'.format(x.get_shape()))\n",
    "    \n",
    "#     F_w_3 = tf.Variable(tf.truncated_normal([depth[3], depth[4]], mean=mu, stddev=sigma))\n",
    "#     F_b_3 = tf.Variable(tf.zeros(depth[4]))\n",
    "#     x = tf.matmul(x, F_w_3) + F_b_3\n",
    "#     print('Layer 6 Matrix Multiplication: Shape {}'.format(x.get_shape()))\n",
    "    \n",
    "#     F_w_4 = tf.Variable(tf.truncated_normal([depth[4], depth[5]], mean=mu, stddev=sigma))\n",
    "#     F_b_4 = tf.Variable(tf.zeros(depth[5]))\n",
    "#     x = tf.matmul(x, F_w_4) + F_b_4\n",
    "#     x = tf.nn.sigmoid(x)\n",
    "#     print('Layer 6 Matrix Multiplication: Shape {}'.format(x.get_shape()))\n",
    "    \n",
    "#     F_w_5 = tf.Variable(tf.truncated_normal([depth[5], depth[6]], mean=mu, stddev=sigma))\n",
    "#     F_b_5 = tf.Variable(tf.zeros(depth[6]))\n",
    "#     x = tf.matmul(x, F_w_5) + F_b_5\n",
    "#     x = tf.nn.sigmoid(x)\n",
    "#     print('Final Layer Matrix Multiplication: Shape {}'.format(x.get_shape()))\n",
    "    \n",
    "#     return x"
   ]
  }
 ],
 "metadata": {
  "anaconda-cloud": {},
  "kernelspec": {
   "display_name": "Python 3",
   "language": "python",
   "name": "python3"
  },
  "language_info": {
   "codemirror_mode": {
    "name": "ipython",
    "version": 3
   },
   "file_extension": ".py",
   "mimetype": "text/x-python",
   "name": "python",
   "nbconvert_exporter": "python",
   "pygments_lexer": "ipython3",
   "version": "3.5.2"
  }
 },
 "nbformat": 4,
 "nbformat_minor": 1
}
